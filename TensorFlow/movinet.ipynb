{
 "cells": [
  {
   "cell_type": "markdown",
   "metadata": {
    "id": "toCy3v03Dwx7"
   },
   "source": [
    "##### Copyright 2021 The TensorFlow Hub Authors.\n",
    "\n",
    "Licensed under the Apache License, Version 2.0 (the \"License\");"
   ]
  },
  {
   "cell_type": "code",
   "execution_count": 1,
   "metadata": {
    "execution": {
     "iopub.execute_input": "2024-03-09T13:24:58.790209Z",
     "iopub.status.busy": "2024-03-09T13:24:58.789673Z",
     "iopub.status.idle": "2024-03-09T13:24:58.793856Z",
     "shell.execute_reply": "2024-03-09T13:24:58.793175Z"
    },
    "id": "QKe-ubNcDvgv"
   },
   "outputs": [],
   "source": [
    "# Copyright 2021 The TensorFlow Hub Authors. All Rights Reserved.\n",
    "#\n",
    "# Licensed under the Apache License, Version 2.0 (the \"License\");\n",
    "# you may not use this file except in compliance with the License.\n",
    "# You may obtain a copy of the License at\n",
    "#\n",
    "#     http://www.apache.org/licenses/LICENSE-2.0\n",
    "#\n",
    "# Unless required by applicable law or agreed to in writing, software\n",
    "# distributed under the License is distributed on an \"AS IS\" BASIS,\n",
    "# WITHOUT WARRANTIES OR CONDITIONS OF ANY KIND, either express or implied.\n",
    "# See the License for the specific language governing permissions and\n",
    "# limitations under the License.\n",
    "# =============================================================================="
   ]
  },
  {
   "cell_type": "markdown",
   "metadata": {
    "id": "qFdPvlXBOdUN"
   },
   "source": [
    "# MoViNet for streaming action recognition "
   ]
  },
  {
   "cell_type": "markdown",
   "metadata": {
    "id": "MfBg1C5NB3X0"
   },
   "source": [
    "<table class=\"tfo-notebook-buttons\" align=\"left\">\n",
    "  <td>\n",
    "    <a target=\"_blank\" href=\"https://www.tensorflow.org/hub/tutorials/movinet\"><img src=\"https://www.tensorflow.org/images/tf_logo_32px.png\" />View on TensorFlow.org</a>\n",
    "  </td>\n",
    "  <td>\n",
    "    <a target=\"_blank\" href=\"https://colab.research.google.com/github/tensorflow/docs/blob/master/site/en/hub/tutorials/movinet.ipynb\"><img src=\"https://www.tensorflow.org/images/colab_logo_32px.png\" />Run in Google Colab</a>\n",
    "  </td>\n",
    "  <td>\n",
    "    <a target=\"_blank\" href=\"https://github.com/tensorflow/docs/blob/master/site/en/hub/tutorials/movinet.ipynb\"><img src=\"https://www.tensorflow.org/images/GitHub-Mark-32px.png\" />View on GitHub</a>\n",
    "  </td>\n",
    "  <td>\n",
    "    <a href=\"https://storage.googleapis.com/tensorflow_docs/docs/site/en/hub/tutorials/movinet.ipynb\"><img src=\"https://www.tensorflow.org/images/download_logo_32px.png\" />Download notebook</a>\n",
    "  </td>\n",
    "  <td>\n",
    "    <a href=\"https://tfhub.dev/google/collections/movinet/1\"><img src=\"https://www.tensorflow.org/images/hub_logo_32px.png\" />See TF Hub models</a>\n",
    "  </td>\n",
    "</table>"
   ]
  },
  {
   "cell_type": "markdown",
   "metadata": {
    "id": "-vxk2Kbc_KSP"
   },
   "source": [
    "This tutorial demonstrates how to use a pretrained video classification model to classify an activity (such as dancing, swimming, biking etc) in the given video.   \n",
    "\n",
    "The model architecture used in this tutorial is called [MoViNet](https://arxiv.org/pdf/2103.11511.pdf) (Mobile Video Networks). MoVieNets are a family of efficient video classification models trained on huge dataset ([Kinetics 600](https://deepmind.com/research/open-source/kinetics)).\n",
    "\n",
    "In contrast to the [i3d models](https://tfhub.dev/s?q=i3d-kinetics) available on TF Hub, MoViNets also support frame-by-frame inference on streaming video. \n",
    "\n",
    "The pretrained models are available from [TF Hub](https://tfhub.dev/google/collections/movinet/1). The TF Hub collection also includes quantized models optimized for [TFLite](https://tensorflow.org/lite).\n",
    "\n",
    "The source for these models is available in the [TensorFlow Model Garden](https://github.com/tensorflow/models/tree/master/official/projects/movinet). This includes a [longer version of this tutorial](https://colab.sandbox.google.com/github/tensorflow/models/blob/master/official/projects/movinet/movinet_tutorial.ipynb) that also covers building and fine-tuning a MoViNet model. \n",
    "\n",
    "This MoViNet tutorial is part of a series of TensorFlow video tutorials. Here are the other three tutorials:\n",
    "\n",
    "- [Load video data](https://www.tensorflow.org/tutorials/load_data/video): This tutorial explains how to load and preprocess video data into a TensorFlow dataset pipeline from scratch.\n",
    "- [Build a 3D CNN model for video classification](https://www.tensorflow.org/tutorials/video/video_classification). Note that this tutorial uses a (2+1)D CNN that decomposes the spatial and temporal aspects of 3D data; if you are using volumetric data such as an MRI scan, consider using a 3D CNN instead of a (2+1)D CNN.\n",
    "- [Transfer learning for video classification with MoViNet](https://www.tensorflow.org/tutorials/video/transfer_learning_with_movinet): This tutorial explains how to use a pre-trained video classification model trained on a different dataset with the UCF-101 dataset.\n"
   ]
  },
  {
   "cell_type": "markdown",
   "metadata": {
    "id": "3E96e1UKQ8uR"
   },
   "source": [
    "![jumping jacks plot](https://storage.googleapis.com/tf_model_garden/vision/movinet/artifacts/jumpingjacks_plot.gif)"
   ]
  },
  {
   "cell_type": "markdown",
   "metadata": {
    "id": "8_oLnvJy7kz5"
   },
   "source": [
    "## Setup\n",
    "\n",
    "For inference on smaller models (A0-A2), CPU is sufficient for this Colab."
   ]
  },
  {
   "cell_type": "code",
   "execution_count": 2,
   "metadata": {
    "execution": {
     "iopub.execute_input": "2024-03-09T13:24:58.797816Z",
     "iopub.status.busy": "2024-03-09T13:24:58.797275Z",
     "iopub.status.idle": "2024-03-09T13:25:01.970836Z",
     "shell.execute_reply": "2024-03-09T13:25:01.969661Z"
    },
    "id": "GUgUMGmY1yq-"
   },
   "outputs": [
    {
     "name": "stdout",
     "output_type": "stream",
     "text": [
      "\r",
      "Reading package lists... 0%\r",
      "\r",
      "Reading package lists... 100%\r",
      "\r",
      "Reading package lists... Done\r",
      "\r\n",
      "\r",
      "Building dependency tree... 0%\r",
      "\r",
      "Building dependency tree... 0%\r"
     ]
    },
    {
     "name": "stdout",
     "output_type": "stream",
     "text": [
      "\r",
      "Building dependency tree... 50%\r",
      "\r",
      "Building dependency tree... 50%\r"
     ]
    },
    {
     "name": "stdout",
     "output_type": "stream",
     "text": [
      "\r",
      "Building dependency tree       \r",
      "\r\n",
      "\r",
      "Reading state information... 0%\r",
      "\r",
      "Reading state information... 0%\r",
      "\r",
      "Reading state information... Done\r",
      "\r\n",
      "ffmpeg is already the newest version (7:4.2.7-0ubuntu0.1).\r\n"
     ]
    },
    {
     "name": "stdout",
     "output_type": "stream",
     "text": [
      "The following packages were automatically installed and are no longer required:\r\n",
      "  libatasmart4 libblockdev-fs2 libblockdev-loop2 libblockdev-part-err2\r\n",
      "  libblockdev-part2 libblockdev-swap2 libblockdev-utils2 libblockdev2\r\n",
      "  libparted-fs-resize0 libxmlb2\r\n",
      "Use 'sudo apt autoremove' to remove them.\r\n"
     ]
    },
    {
     "name": "stdout",
     "output_type": "stream",
     "text": [
      "0 upgraded, 0 newly installed, 0 to remove and 187 not upgraded.\r\n"
     ]
    }
   ],
   "source": [
    "!sudo apt install -y ffmpeg\n",
    "!pip install -q mediapy"
   ]
  },
  {
   "cell_type": "code",
   "execution_count": 3,
   "metadata": {
    "execution": {
     "iopub.execute_input": "2024-03-09T13:25:01.975699Z",
     "iopub.status.busy": "2024-03-09T13:25:01.974960Z",
     "iopub.status.idle": "2024-03-09T13:25:07.556080Z",
     "shell.execute_reply": "2024-03-09T13:25:07.554957Z"
    },
    "id": "s3khsunT7kWa"
   },
   "outputs": [
    {
     "name": "stdout",
     "output_type": "stream",
     "text": [
      "\u001b[33mWARNING: Skipping opencv-python-headless as it is not installed.\u001b[0m\u001b[33m\r\n",
      "\u001b[0m"
     ]
    }
   ],
   "source": [
    "!pip uninstall -q -y opencv-python-headless\n",
    "!pip install -q \"opencv-python-headless<4.3\""
   ]
  },
  {
   "cell_type": "code",
   "execution_count": 4,
   "metadata": {
    "execution": {
     "iopub.execute_input": "2024-03-09T13:25:07.561073Z",
     "iopub.status.busy": "2024-03-09T13:25:07.560342Z",
     "iopub.status.idle": "2024-03-09T13:25:10.765770Z",
     "shell.execute_reply": "2024-03-09T13:25:10.764883Z"
    },
    "id": "dI_1csl6Q-gH"
   },
   "outputs": [],
   "source": [
    "# Import libraries\n",
    "import pathlib\n",
    "\n",
    "import matplotlib as mpl\n",
    "import matplotlib.pyplot as plt\n",
    "import mediapy as media\n",
    "import numpy as np\n",
    "import PIL\n",
    "\n",
    "import tensorflow as tf\n",
    "import tensorflow_hub as hub\n",
    "import tqdm\n",
    "\n",
    "mpl.rcParams.update({\n",
    "    'font.size': 10,\n",
    "})"
   ]
  },
  {
   "cell_type": "markdown",
   "metadata": {
    "id": "Pn8K9oWbmREi"
   },
   "source": [
    "Get the kinetics 600 label list, and print the first few labels:"
   ]
  },
  {
   "cell_type": "code",
   "execution_count": 5,
   "metadata": {
    "execution": {
     "iopub.execute_input": "2024-03-09T13:25:10.770638Z",
     "iopub.status.busy": "2024-03-09T13:25:10.769864Z",
     "iopub.status.idle": "2024-03-09T13:25:10.912445Z",
     "shell.execute_reply": "2024-03-09T13:25:10.911692Z"
    },
    "id": "2VJUAcjhkfb3"
   },
   "outputs": [
    {
     "name": "stdout",
     "output_type": "stream",
     "text": [
      "Downloading data from https://raw.githubusercontent.com/tensorflow/models/f8af2291cced43fc9f1d9b41ddbf772ae7b0d7d2/official/projects/movinet/files/kinetics_600_labels.txt\n"
     ]
    },
    {
     "name": "stdout",
     "output_type": "stream",
     "text": [
      "\r",
      "\u001b[1m   0/9209\u001b[0m \u001b[37m━━━━━━━━━━━━━━━━━━━━\u001b[0m \u001b[1m0s\u001b[0m 0s/step"
     ]
    },
    {
     "name": "stdout",
     "output_type": "stream",
     "text": [
      "\b\b\b\b\b\b\b\b\b\b\b\b\b\b\b\b\b\b\b\b\b\b\b\b\b\b\b\b\b\b\b\b\b\b\b\b\b\b\b\b\b\r",
      "\u001b[1m9209/9209\u001b[0m \u001b[32m━━━━━━━━━━━━━━━━━━━━\u001b[0m\u001b[37m\u001b[0m \u001b[1m0s\u001b[0m 0us/step\n"
     ]
    },
    {
     "data": {
      "text/plain": [
       "array(['abseiling', 'acting in play', 'adjusting glasses', 'air drumming',\n",
       "       'alligator wrestling', 'answering questions', 'applauding',\n",
       "       'applying cream', 'archaeological excavation', 'archery',\n",
       "       'arguing', 'arm wrestling', 'arranging flowers',\n",
       "       'assembling bicycle', 'assembling computer',\n",
       "       'attending conference', 'auctioning', 'backflip (human)',\n",
       "       'baking cookies', 'bandaging'], dtype='<U49')"
      ]
     },
     "execution_count": 5,
     "metadata": {},
     "output_type": "execute_result"
    }
   ],
   "source": [
    "labels_path = tf.keras.utils.get_file(\n",
    "    fname='labels.txt',\n",
    "    origin='https://raw.githubusercontent.com/tensorflow/models/f8af2291cced43fc9f1d9b41ddbf772ae7b0d7d2/official/projects/movinet/files/kinetics_600_labels.txt'\n",
    ")\n",
    "labels_path = pathlib.Path(labels_path)\n",
    "\n",
    "lines = labels_path.read_text().splitlines()\n",
    "KINETICS_600_LABELS = np.array([line.strip() for line in lines])\n",
    "KINETICS_600_LABELS[:20]"
   ]
  },
  {
   "cell_type": "markdown",
   "metadata": {
    "id": "G9BU5XsOmaq3"
   },
   "source": [
    "To provide a simple example video for classification, we can load a short gif of jumping jacks being performed.\n",
    "\n",
    "![jumping jacks](https://github.com/tensorflow/models/raw/f8af2291cced43fc9f1d9b41ddbf772ae7b0d7d2/official/projects/movinet/files/jumpingjack.gif)\n",
    "\n",
    "Attribution: Footage shared by [Coach Bobby Bluford](https://www.youtube.com/watch?v=-AxHpj-EuPg) on YouTube under the CC-BY license."
   ]
  },
  {
   "cell_type": "markdown",
   "metadata": {
    "id": "8aFKMbr4mfSg"
   },
   "source": [
    "Download the gif."
   ]
  },
  {
   "cell_type": "code",
   "execution_count": 6,
   "metadata": {
    "execution": {
     "iopub.execute_input": "2024-03-09T13:25:10.916351Z",
     "iopub.status.busy": "2024-03-09T13:25:10.915686Z",
     "iopub.status.idle": "2024-03-09T13:25:11.338502Z",
     "shell.execute_reply": "2024-03-09T13:25:11.337713Z"
    },
    "id": "w62jqXhaSb15"
   },
   "outputs": [
    {
     "name": "stdout",
     "output_type": "stream",
     "text": [
      "Downloading data from https://github.com/tensorflow/models/raw/f8af2291cced43fc9f1d9b41ddbf772ae7b0d7d2/official/projects/movinet/files/jumpingjack.gif\n"
     ]
    },
    {
     "name": "stdout",
     "output_type": "stream",
     "text": [
      "\r",
      "\u001b[1m     0/783318\u001b[0m \u001b[37m━━━━━━━━━━━━━━━━━━━━\u001b[0m \u001b[1m0s\u001b[0m 0s/step"
     ]
    },
    {
     "name": "stdout",
     "output_type": "stream",
     "text": [
      "\b\b\b\b\b\b\b\b\b\b\b\b\b\b\b\b\b\b\b\b\b\b\b\b\b\b\b\b\b\b\b\b\b\b\b\b\b\b\b\b\b\b\b\b\b\r",
      "\u001b[1m783318/783318\u001b[0m \u001b[32m━━━━━━━━━━━━━━━━━━━━\u001b[0m\u001b[37m\u001b[0m \u001b[1m0s\u001b[0m 0us/step\n"
     ]
    }
   ],
   "source": [
    "jumpingjack_url = 'https://github.com/tensorflow/models/raw/f8af2291cced43fc9f1d9b41ddbf772ae7b0d7d2/official/projects/movinet/files/jumpingjack.gif'\n",
    "jumpingjack_path = tf.keras.utils.get_file(\n",
    "    fname='jumpingjack.gif',\n",
    "    origin=jumpingjack_url,\n",
    "    cache_dir='.', cache_subdir='.',\n",
    ")"
   ]
  },
  {
   "cell_type": "markdown",
   "metadata": {
    "id": "hdRS_22PebfB"
   },
   "source": [
    "Define a function to read a gif file into a `tf.Tensor`:"
   ]
  },
  {
   "cell_type": "code",
   "execution_count": 7,
   "metadata": {
    "execution": {
     "iopub.execute_input": "2024-03-09T13:25:11.342588Z",
     "iopub.status.busy": "2024-03-09T13:25:11.341918Z",
     "iopub.status.idle": "2024-03-09T13:25:11.347182Z",
     "shell.execute_reply": "2024-03-09T13:25:11.346503Z"
    },
    "id": "mPhmCu6oSi5f"
   },
   "outputs": [],
   "source": [
    "#@title\n",
    "# Read and process a video\n",
    "def load_gif(file_path, image_size=(224, 224)):\n",
    "  \"\"\"Loads a gif file into a TF tensor.\n",
    "\n",
    "  Use images resized to match what's expected by your model.\n",
    "  The model pages say the \"A2\" models expect 224 x 224 images at 5 fps\n",
    "\n",
    "  Args:\n",
    "    file_path: path to the location of a gif file.\n",
    "    image_size: a tuple of target size.\n",
    "\n",
    "  Returns:\n",
    "    a video of the gif file\n",
    "  \"\"\"\n",
    "  # Load a gif file, convert it to a TF tensor\n",
    "  raw = tf.io.read_file(file_path)\n",
    "  video = tf.io.decode_gif(raw)\n",
    "  # Resize the video\n",
    "  video = tf.image.resize(video, image_size)\n",
    "  # change dtype to a float32\n",
    "  # Hub models always want images normalized to [0,1]\n",
    "  # ref: https://www.tensorflow.org/hub/common_signatures/images#input\n",
    "  video = tf.cast(video, tf.float32) / 255.\n",
    "  return video"
   ]
  },
  {
   "cell_type": "markdown",
   "metadata": {
    "id": "Xx7cZm8vpDJm"
   },
   "source": [
    "The video's shape is `(frames, height, width, colors)`"
   ]
  },
  {
   "cell_type": "code",
   "execution_count": 8,
   "metadata": {
    "execution": {
     "iopub.execute_input": "2024-03-09T13:25:11.350697Z",
     "iopub.status.busy": "2024-03-09T13:25:11.350156Z",
     "iopub.status.idle": "2024-03-09T13:25:11.565078Z",
     "shell.execute_reply": "2024-03-09T13:25:11.564155Z"
    },
    "id": "E7k_PmbFSkHv"
   },
   "outputs": [
    {
     "name": "stderr",
     "output_type": "stream",
     "text": [
      "2024-03-09 13:25:11.486732: E external/local_xla/xla/stream_executor/cuda/cuda_driver.cc:282] failed call to cuInit: CUDA_ERROR_NO_DEVICE: no CUDA-capable device is detected\n"
     ]
    },
    {
     "data": {
      "text/plain": [
       "TensorShape([13, 224, 224, 3])"
      ]
     },
     "execution_count": 8,
     "metadata": {},
     "output_type": "execute_result"
    }
   ],
   "source": [
    "jumpingjack=load_gif(jumpingjack_path)\n",
    "jumpingjack.shape"
   ]
  },
  {
   "cell_type": "markdown",
   "metadata": {
    "id": "LcKFy3oedBvF"
   },
   "source": [
    "## How to use the model\n",
    "\n",
    "This section contains a walkthrough showing how to use the [models from TensorFlow Hub](https://tfhub.dev/google/collections/movinet/1). If you just want to see the models in action, skip to the next section.\n",
    "\n",
    "There are two versions of each model: `base` and `streaming`.\n",
    "\n",
    "* The `base` version takes a video as input, and returns the probabilities averaged over the frames.\n",
    "* The `streaming` version takes a video frame and an RNN state as input, and returns the predictions for that frame, and the new RNN state. "
   ]
  },
  {
   "cell_type": "markdown",
   "metadata": {
    "id": "WQO6Zb8Hm-9q"
   },
   "source": [
    "### The base model"
   ]
  },
  {
   "cell_type": "markdown",
   "metadata": {
    "id": "RfnYU20JnPqp"
   },
   "source": [
    "Download the [pretrained model from TensorFlow Hub](https://tfhub.dev/tensorflow/movinet/a2/base/kinetics-600/classification/3). "
   ]
  },
  {
   "cell_type": "code",
   "execution_count": 9,
   "metadata": {
    "execution": {
     "iopub.execute_input": "2024-03-09T13:25:11.569701Z",
     "iopub.status.busy": "2024-03-09T13:25:11.569107Z",
     "iopub.status.idle": "2024-03-09T13:25:29.625242Z",
     "shell.execute_reply": "2024-03-09T13:25:29.624451Z"
    },
    "id": "FnpPo6HSR7qv"
   },
   "outputs": [
    {
     "name": "stdout",
     "output_type": "stream",
     "text": [
      "CPU times: user 16.9 s, sys: 672 ms, total: 17.6 s\n",
      "Wall time: 18.1 s\n"
     ]
    }
   ],
   "source": [
    "%%time\n",
    "id = 'a2'\n",
    "mode = 'base'\n",
    "version = '3'\n",
    "hub_url = f'https://tfhub.dev/tensorflow/movinet/{id}/{mode}/kinetics-600/classification/{version}'\n",
    "model = hub.load(hub_url)"
   ]
  },
  {
   "cell_type": "markdown",
   "metadata": {
    "id": "jvaFwKhxndmb"
   },
   "source": [
    "This version of the model has one `signature`. It takes an `image` argument which is a `tf.float32` with shape `(batch, frames, height, width, colors)`. It returns a dictionary containing one output: A `tf.float32` tensor of logits with shape `(batch, classes)`."
   ]
  },
  {
   "cell_type": "code",
   "execution_count": 10,
   "metadata": {
    "execution": {
     "iopub.execute_input": "2024-03-09T13:25:29.629254Z",
     "iopub.status.busy": "2024-03-09T13:25:29.628590Z",
     "iopub.status.idle": "2024-03-09T13:25:29.635859Z",
     "shell.execute_reply": "2024-03-09T13:25:29.635198Z"
    },
    "id": "7GzZ4Y03T_gH"
   },
   "outputs": [
    {
     "name": "stdout",
     "output_type": "stream",
     "text": [
      "Input Parameters:\n",
      "  image (KEYWORD_ONLY): TensorSpec(shape=(None, None, None, None, 3), dtype=tf.float32, name='image')\n",
      "Output Type:\n",
      "  Dict[['classifier_head', TensorSpec(shape=(None, 600), dtype=tf.float32, name='classifier_head')]]\n",
      "Captures:\n",
      "  139759956646544: TensorSpec(shape=(), dtype=tf.resource, name=None)\n",
      "  139764748771568: TensorSpec(shape=(), dtype=tf.resource, name=None)\n",
      "  139764748779360: TensorSpec(shape=(), dtype=tf.resource, name=None)\n",
      "  139764748778656: TensorSpec(shape=(), dtype=tf.resource, name=None)\n",
      "  139764748779008: TensorSpec(shape=(), dtype=tf.resource, name=None)\n",
      "  139759956645840: TensorSpec(shape=(), dtype=tf.resource, name=None)\n",
      "  139764748778304: TensorSpec(shape=(), dtype=tf.resource, name=None)\n",
      "  139764748777248: TensorSpec(shape=(), dtype=tf.resource, name=None)\n",
      "  139764748777600: TensorSpec(shape=(), dtype=tf.resource, name=None)\n",
      "  139764748777952: TensorSpec(shape=(), dtype=tf.resource, name=None)\n",
      "  139759956646192: TensorSpec(shape=(), dtype=tf.resource, name=None)\n",
      "  139764748776896: TensorSpec(shape=(), dtype=tf.resource, name=None)\n",
      "  139764748775840: TensorSpec(shape=(), dtype=tf.resource, name=None)\n",
      "  139764748776544: TensorSpec(shape=(), dtype=tf.resource, name=None)\n",
      "  139764748776192: TensorSpec(shape=(), dtype=tf.resource, name=None)\n",
      "  139759956645136: TensorSpec(shape=(), dtype=tf.resource, name=None)\n",
      "  139759956644784: TensorSpec(shape=(), dtype=tf.resource, name=None)\n",
      "  139759956644432: TensorSpec(shape=(), dtype=tf.resource, name=None)\n",
      "  139759956644080: TensorSpec(shape=(), dtype=tf.resource, name=None)\n",
      "  139759956645488: TensorSpec(shape=(), dtype=tf.resource, name=None)\n",
      "  139764748750512: TensorSpec(shape=(), dtype=tf.resource, name=None)\n",
      "  139764748750160: TensorSpec(shape=(), dtype=tf.resource, name=None)\n",
      "  139764748749808: TensorSpec(shape=(), dtype=tf.resource, name=None)\n",
      "  139764748775488: TensorSpec(shape=(), dtype=tf.resource, name=None)\n",
      "  139764749250048: TensorSpec(shape=(), dtype=tf.resource, name=None)\n",
      "  139764749250400: TensorSpec(shape=(), dtype=tf.resource, name=None)\n",
      "  139759956034480: TensorSpec(shape=(), dtype=tf.resource, name=None)\n",
      "  139759956034128: TensorSpec(shape=(), dtype=tf.resource, name=None)\n",
      "  139759956025184: TensorSpec(shape=(), dtype=tf.resource, name=None)\n",
      "  139759956033776: TensorSpec(shape=(), dtype=tf.resource, name=None)\n",
      "  139764749249696: TensorSpec(shape=(), dtype=tf.resource, name=None)\n",
      "  139764748748400: TensorSpec(shape=(), dtype=tf.resource, name=None)\n",
      "  139764748748752: TensorSpec(shape=(), dtype=tf.resource, name=None)\n",
      "  139764748749456: TensorSpec(shape=(), dtype=tf.resource, name=None)\n",
      "  139764748749104: TensorSpec(shape=(), dtype=tf.resource, name=None)\n",
      "  139764749249344: TensorSpec(shape=(), dtype=tf.resource, name=None)\n",
      "  139764748746992: TensorSpec(shape=(), dtype=tf.resource, name=None)\n",
      "  139764748748048: TensorSpec(shape=(), dtype=tf.resource, name=None)\n",
      "  139764748747696: TensorSpec(shape=(), dtype=tf.resource, name=None)\n",
      "  139764748747344: TensorSpec(shape=(), dtype=tf.resource, name=None)\n",
      "  139764749248640: TensorSpec(shape=(), dtype=tf.resource, name=None)\n",
      "  139764749248288: TensorSpec(shape=(), dtype=tf.resource, name=None)\n",
      "  139764749247936: TensorSpec(shape=(), dtype=tf.resource, name=None)\n",
      "  139764749247584: TensorSpec(shape=(), dtype=tf.resource, name=None)\n",
      "  139764749248992: TensorSpec(shape=(), dtype=tf.resource, name=None)\n",
      "  139764749446656: TensorSpec(shape=(), dtype=tf.resource, name=None)\n",
      "  139764749446304: TensorSpec(shape=(), dtype=tf.resource, name=None)\n",
      "  139764749445952: TensorSpec(shape=(), dtype=tf.resource, name=None)\n",
      "  139764749447008: TensorSpec(shape=(), dtype=tf.resource, name=None)\n",
      "  139764749247232: TensorSpec(shape=(), dtype=tf.resource, name=None)\n",
      "  139764749246880: TensorSpec(shape=(), dtype=tf.resource, name=None)\n",
      "  139764749445248: TensorSpec(shape=(), dtype=tf.resource, name=None)\n",
      "  139764749444896: TensorSpec(shape=(), dtype=tf.resource, name=None)\n",
      "  139764749445600: TensorSpec(shape=(), dtype=tf.resource, name=None)\n",
      "  139764749444544: TensorSpec(shape=(), dtype=tf.resource, name=None)\n",
      "  139764749246528: TensorSpec(shape=(), dtype=tf.resource, name=None)\n",
      "  139764749443488: TensorSpec(shape=(), dtype=tf.resource, name=None)\n",
      "  139764749443136: TensorSpec(shape=(), dtype=tf.resource, name=None)\n",
      "  139764749444192: TensorSpec(shape=(), dtype=tf.resource, name=None)\n",
      "  139764749443840: TensorSpec(shape=(), dtype=tf.resource, name=None)\n",
      "  139764749241680: TensorSpec(shape=(), dtype=tf.resource, name=None)\n",
      "  139764749241328: TensorSpec(shape=(), dtype=tf.resource, name=None)\n",
      "  139764749240976: TensorSpec(shape=(), dtype=tf.resource, name=None)\n",
      "  139764749240624: TensorSpec(shape=(), dtype=tf.resource, name=None)\n",
      "  139764749242032: TensorSpec(shape=(), dtype=tf.resource, name=None)\n",
      "  139764749524656: TensorSpec(shape=(), dtype=tf.resource, name=None)\n",
      "  139764749524304: TensorSpec(shape=(), dtype=tf.resource, name=None)\n",
      "  139764749523952: TensorSpec(shape=(), dtype=tf.resource, name=None)\n",
      "  139764749523600: TensorSpec(shape=(), dtype=tf.resource, name=None)\n",
      "  139764749240272: TensorSpec(shape=(), dtype=tf.resource, name=None)\n",
      "  139764749239920: TensorSpec(shape=(), dtype=tf.resource, name=None)\n",
      "  139764749523248: TensorSpec(shape=(), dtype=tf.resource, name=None)\n",
      "  139764749522896: TensorSpec(shape=(), dtype=tf.resource, name=None)\n",
      "  139764749522544: TensorSpec(shape=(), dtype=tf.resource, name=None)\n",
      "  139764749522192: TensorSpec(shape=(), dtype=tf.resource, name=None)\n",
      "  139764749239568: TensorSpec(shape=(), dtype=tf.resource, name=None)\n",
      "  139764749521136: TensorSpec(shape=(), dtype=tf.resource, name=None)\n",
      "  139764749504352: TensorSpec(shape=(), dtype=tf.resource, name=None)\n",
      "  139764749521840: TensorSpec(shape=(), dtype=tf.resource, name=None)\n",
      "  139764749521488: TensorSpec(shape=(), dtype=tf.resource, name=None)\n",
      "  139764749238864: TensorSpec(shape=(), dtype=tf.resource, name=None)\n",
      "  139764749238512: TensorSpec(shape=(), dtype=tf.resource, name=None)\n",
      "  139764749201248: TensorSpec(shape=(), dtype=tf.resource, name=None)\n",
      "  139764749200896: TensorSpec(shape=(), dtype=tf.resource, name=None)\n",
      "  139764749239216: TensorSpec(shape=(), dtype=tf.resource, name=None)\n",
      "  139764749503296: TensorSpec(shape=(), dtype=tf.resource, name=None)\n",
      "  139764749502944: TensorSpec(shape=(), dtype=tf.resource, name=None)\n",
      "  139764749504000: TensorSpec(shape=(), dtype=tf.resource, name=None)\n",
      "  139764749503648: TensorSpec(shape=(), dtype=tf.resource, name=None)\n",
      "  139764749200192: TensorSpec(shape=(), dtype=tf.resource, name=None)\n",
      "  139764749200544: TensorSpec(shape=(), dtype=tf.resource, name=None)\n",
      "  139759956024832: TensorSpec(shape=(), dtype=tf.resource, name=None)\n",
      "  139759956024480: TensorSpec(shape=(), dtype=tf.resource, name=None)\n",
      "  139759956024128: TensorSpec(shape=(), dtype=tf.resource, name=None)\n",
      "  139759956023776: TensorSpec(shape=(), dtype=tf.resource, name=None)\n",
      "  139764749198080: TensorSpec(shape=(), dtype=tf.resource, name=None)\n",
      "  139764749502240: TensorSpec(shape=(), dtype=tf.resource, name=None)\n",
      "  139764749501888: TensorSpec(shape=(), dtype=tf.resource, name=None)\n",
      "  139764749501536: TensorSpec(shape=(), dtype=tf.resource, name=None)\n",
      "  139764749502592: TensorSpec(shape=(), dtype=tf.resource, name=None)\n",
      "  139764749197728: TensorSpec(shape=(), dtype=tf.resource, name=None)\n",
      "  139764749500480: TensorSpec(shape=(), dtype=tf.resource, name=None)\n",
      "  139764749487792: TensorSpec(shape=(), dtype=tf.resource, name=None)\n",
      "  139764749501184: TensorSpec(shape=(), dtype=tf.resource, name=None)\n",
      "  139764749500832: TensorSpec(shape=(), dtype=tf.resource, name=None)\n",
      "  139764749199840: TensorSpec(shape=(), dtype=tf.resource, name=None)\n",
      "  139764749199488: TensorSpec(shape=(), dtype=tf.resource, name=None)\n",
      "  139764749199136: TensorSpec(shape=(), dtype=tf.resource, name=None)\n",
      "  139764749198784: TensorSpec(shape=(), dtype=tf.resource, name=None)\n",
      "  139764749197376: TensorSpec(shape=(), dtype=tf.resource, name=None)\n",
      "  139764749486384: TensorSpec(shape=(), dtype=tf.resource, name=None)\n",
      "  139764749487440: TensorSpec(shape=(), dtype=tf.resource, name=None)\n",
      "  139764749487088: TensorSpec(shape=(), dtype=tf.resource, name=None)\n",
      "  139764749486736: TensorSpec(shape=(), dtype=tf.resource, name=None)\n",
      "  139764749198432: TensorSpec(shape=(), dtype=tf.resource, name=None)\n",
      "  139764749188784: TensorSpec(shape=(), dtype=tf.resource, name=None)\n",
      "  139764749484976: TensorSpec(shape=(), dtype=tf.resource, name=None)\n",
      "  139764749486032: TensorSpec(shape=(), dtype=tf.resource, name=None)\n",
      "  139764749485680: TensorSpec(shape=(), dtype=tf.resource, name=None)\n",
      "  139764749485328: TensorSpec(shape=(), dtype=tf.resource, name=None)\n",
      "  139764749188432: TensorSpec(shape=(), dtype=tf.resource, name=None)\n",
      "  139764749484272: TensorSpec(shape=(), dtype=tf.resource, name=None)\n",
      "  139764749463392: TensorSpec(shape=(), dtype=tf.resource, name=None)\n",
      "  139764749463040: TensorSpec(shape=(), dtype=tf.resource, name=None)\n",
      "  139764749484624: TensorSpec(shape=(), dtype=tf.resource, name=None)\n",
      "  139764749187728: TensorSpec(shape=(), dtype=tf.resource, name=None)\n",
      "  139764749187376: TensorSpec(shape=(), dtype=tf.resource, name=None)\n",
      "  139764749187024: TensorSpec(shape=(), dtype=tf.resource, name=None)\n",
      "  139764749186672: TensorSpec(shape=(), dtype=tf.resource, name=None)\n",
      "  139764749188080: TensorSpec(shape=(), dtype=tf.resource, name=None)\n",
      "  139764749461984: TensorSpec(shape=(), dtype=tf.resource, name=None)\n",
      "  139764749461632: TensorSpec(shape=(), dtype=tf.resource, name=None)\n",
      "  139764749462688: TensorSpec(shape=(), dtype=tf.resource, name=None)\n",
      "  139764749462336: TensorSpec(shape=(), dtype=tf.resource, name=None)\n",
      "  139764749186320: TensorSpec(shape=(), dtype=tf.resource, name=None)\n",
      "  139764749185968: TensorSpec(shape=(), dtype=tf.resource, name=None)\n",
      "  139764749460576: TensorSpec(shape=(), dtype=tf.resource, name=None)\n",
      "  139764749460224: TensorSpec(shape=(), dtype=tf.resource, name=None)\n",
      "  139764749461280: TensorSpec(shape=(), dtype=tf.resource, name=None)\n",
      "  139764749460928: TensorSpec(shape=(), dtype=tf.resource, name=None)\n",
      "  139764749185616: TensorSpec(shape=(), dtype=tf.resource, name=None)\n",
      "  139764749459872: TensorSpec(shape=(), dtype=tf.resource, name=None)\n",
      "  139764749459520: TensorSpec(shape=(), dtype=tf.resource, name=None)\n",
      "  139764749356720: TensorSpec(shape=(), dtype=tf.resource, name=None)\n",
      "  139764749356368: TensorSpec(shape=(), dtype=tf.resource, name=None)\n",
      "  139764749168480: TensorSpec(shape=(), dtype=tf.resource, name=None)\n",
      "  139764749168128: TensorSpec(shape=(), dtype=tf.resource, name=None)\n",
      "  139764749167776: TensorSpec(shape=(), dtype=tf.resource, name=None)\n",
      "  139764749167424: TensorSpec(shape=(), dtype=tf.resource, name=None)\n",
      "  139764749185264: TensorSpec(shape=(), dtype=tf.resource, name=None)\n",
      "  139764749355664: TensorSpec(shape=(), dtype=tf.resource, name=None)\n",
      "  139764749355312: TensorSpec(shape=(), dtype=tf.resource, name=None)\n",
      "  139764749354960: TensorSpec(shape=(), dtype=tf.resource, name=None)\n",
      "  139764749356016: TensorSpec(shape=(), dtype=tf.resource, name=None)\n",
      "  139764749167072: TensorSpec(shape=(), dtype=tf.resource, name=None)\n",
      "  139764749166720: TensorSpec(shape=(), dtype=tf.resource, name=None)\n",
      "  139764749353904: TensorSpec(shape=(), dtype=tf.resource, name=None)\n",
      "  139764749353552: TensorSpec(shape=(), dtype=tf.resource, name=None)\n",
      "  139764749354608: TensorSpec(shape=(), dtype=tf.resource, name=None)\n",
      "  139764749354256: TensorSpec(shape=(), dtype=tf.resource, name=None)\n",
      "  139764749166368: TensorSpec(shape=(), dtype=tf.resource, name=None)\n",
      "  139764749401600: TensorSpec(shape=(), dtype=tf.resource, name=None)\n",
      "  139764749401248: TensorSpec(shape=(), dtype=tf.resource, name=None)\n",
      "  139764749353200: TensorSpec(shape=(), dtype=tf.resource, name=None)\n",
      "  139764749401952: TensorSpec(shape=(), dtype=tf.resource, name=None)\n",
      "  139764749165664: TensorSpec(shape=(), dtype=tf.resource, name=None)\n",
      "  139764749165312: TensorSpec(shape=(), dtype=tf.resource, name=None)\n",
      "  139764749164960: TensorSpec(shape=(), dtype=tf.resource, name=None)\n",
      "  139764749164608: TensorSpec(shape=(), dtype=tf.resource, name=None)\n",
      "  139764749166016: TensorSpec(shape=(), dtype=tf.resource, name=None)\n",
      "  139764749400896: TensorSpec(shape=(), dtype=tf.resource, name=None)\n",
      "  139764749400544: TensorSpec(shape=(), dtype=tf.resource, name=None)\n",
      "  139764749400192: TensorSpec(shape=(), dtype=tf.resource, name=None)\n",
      "  139764749399840: TensorSpec(shape=(), dtype=tf.resource, name=None)\n",
      "  139764749098672: TensorSpec(shape=(), dtype=tf.resource, name=None)\n",
      "  139764749098320: TensorSpec(shape=(), dtype=tf.resource, name=None)\n",
      "  139764749399136: TensorSpec(shape=(), dtype=tf.resource, name=None)\n",
      "  139764749398784: TensorSpec(shape=(), dtype=tf.resource, name=None)\n",
      "  139764749398432: TensorSpec(shape=(), dtype=tf.resource, name=None)\n",
      "  139764749399488: TensorSpec(shape=(), dtype=tf.resource, name=None)\n",
      "  139764749097968: TensorSpec(shape=(), dtype=tf.resource, name=None)\n",
      "  139764749368656: TensorSpec(shape=(), dtype=tf.resource, name=None)\n",
      "  139764749368304: TensorSpec(shape=(), dtype=tf.resource, name=None)\n",
      "  139764749398080: TensorSpec(shape=(), dtype=tf.resource, name=None)\n",
      "  139764749369008: TensorSpec(shape=(), dtype=tf.resource, name=None)\n",
      "  139764749097264: TensorSpec(shape=(), dtype=tf.resource, name=None)\n",
      "  139764749096912: TensorSpec(shape=(), dtype=tf.resource, name=None)\n",
      "  139764749096560: TensorSpec(shape=(), dtype=tf.resource, name=None)\n",
      "  139764749096208: TensorSpec(shape=(), dtype=tf.resource, name=None)\n",
      "  139764749097616: TensorSpec(shape=(), dtype=tf.resource, name=None)\n",
      "  139764749366896: TensorSpec(shape=(), dtype=tf.resource, name=None)\n",
      "  139764749367952: TensorSpec(shape=(), dtype=tf.resource, name=None)\n",
      "  139764749367600: TensorSpec(shape=(), dtype=tf.resource, name=None)\n",
      "  139764749367248: TensorSpec(shape=(), dtype=tf.resource, name=None)\n",
      "  139764749095504: TensorSpec(shape=(), dtype=tf.resource, name=None)\n",
      "  139764749095856: TensorSpec(shape=(), dtype=tf.resource, name=None)\n",
      "  139759956023424: TensorSpec(shape=(), dtype=tf.resource, name=None)\n",
      "  139759956022368: TensorSpec(shape=(), dtype=tf.resource, name=None)\n",
      "  139759956023072: TensorSpec(shape=(), dtype=tf.resource, name=None)\n",
      "  139759956022720: TensorSpec(shape=(), dtype=tf.resource, name=None)\n",
      "  139764749095152: TensorSpec(shape=(), dtype=tf.resource, name=None)\n",
      "  139764749366192: TensorSpec(shape=(), dtype=tf.resource, name=None)\n",
      "  139764749365840: TensorSpec(shape=(), dtype=tf.resource, name=None)\n",
      "  139764749365488: TensorSpec(shape=(), dtype=tf.resource, name=None)\n",
      "  139764749366544: TensorSpec(shape=(), dtype=tf.resource, name=None)\n",
      "  139764749090656: TensorSpec(shape=(), dtype=tf.resource, name=None)\n",
      "  139764749335712: TensorSpec(shape=(), dtype=tf.resource, name=None)\n",
      "  139764749335360: TensorSpec(shape=(), dtype=tf.resource, name=None)\n",
      "  139764749336416: TensorSpec(shape=(), dtype=tf.resource, name=None)\n",
      "  139764749336064: TensorSpec(shape=(), dtype=tf.resource, name=None)\n",
      "  139764749089952: TensorSpec(shape=(), dtype=tf.resource, name=None)\n",
      "  139764749089600: TensorSpec(shape=(), dtype=tf.resource, name=None)\n",
      "  139764749089248: TensorSpec(shape=(), dtype=tf.resource, name=None)\n",
      "  139764749088896: TensorSpec(shape=(), dtype=tf.resource, name=None)\n",
      "  139764749090304: TensorSpec(shape=(), dtype=tf.resource, name=None)\n",
      "  139764749335008: TensorSpec(shape=(), dtype=tf.resource, name=None)\n",
      "  139764749334656: TensorSpec(shape=(), dtype=tf.resource, name=None)\n",
      "  139764749334304: TensorSpec(shape=(), dtype=tf.resource, name=None)\n",
      "  139764749333952: TensorSpec(shape=(), dtype=tf.resource, name=None)\n",
      "  139764749088544: TensorSpec(shape=(), dtype=tf.resource, name=None)\n",
      "  139764749088192: TensorSpec(shape=(), dtype=tf.resource, name=None)\n",
      "  139764749333600: TensorSpec(shape=(), dtype=tf.resource, name=None)\n",
      "  139764749333248: TensorSpec(shape=(), dtype=tf.resource, name=None)\n",
      "  139764749332896: TensorSpec(shape=(), dtype=tf.resource, name=None)\n",
      "  139764749332544: TensorSpec(shape=(), dtype=tf.resource, name=None)\n",
      "  139764749087840: TensorSpec(shape=(), dtype=tf.resource, name=None)\n",
      "  139764749434192: TensorSpec(shape=(), dtype=tf.resource, name=None)\n",
      "  139764749433840: TensorSpec(shape=(), dtype=tf.resource, name=None)\n",
      "  139764749433488: TensorSpec(shape=(), dtype=tf.resource, name=None)\n",
      "  139764749434544: TensorSpec(shape=(), dtype=tf.resource, name=None)\n",
      "  139764749087136: TensorSpec(shape=(), dtype=tf.resource, name=None)\n",
      "  139764749086784: TensorSpec(shape=(), dtype=tf.resource, name=None)\n",
      "  139764749037232: TensorSpec(shape=(), dtype=tf.resource, name=None)\n",
      "  139764749036880: TensorSpec(shape=(), dtype=tf.resource, name=None)\n",
      "  139764749087488: TensorSpec(shape=(), dtype=tf.resource, name=None)\n",
      "  139764749432432: TensorSpec(shape=(), dtype=tf.resource, name=None)\n",
      "  139764749432080: TensorSpec(shape=(), dtype=tf.resource, name=None)\n",
      "  139764749433136: TensorSpec(shape=(), dtype=tf.resource, name=None)\n",
      "  139764749432784: TensorSpec(shape=(), dtype=tf.resource, name=None)\n",
      "  139764749036528: TensorSpec(shape=(), dtype=tf.resource, name=None)\n",
      "  139764749036176: TensorSpec(shape=(), dtype=tf.resource, name=None)\n",
      "  139764749431024: TensorSpec(shape=(), dtype=tf.resource, name=None)\n",
      "  139764749410144: TensorSpec(shape=(), dtype=tf.resource, name=None)\n",
      "  139764749431728: TensorSpec(shape=(), dtype=tf.resource, name=None)\n",
      "  139764749431376: TensorSpec(shape=(), dtype=tf.resource, name=None)\n",
      "  139764749035824: TensorSpec(shape=(), dtype=tf.resource, name=None)\n",
      "  139764749409792: TensorSpec(shape=(), dtype=tf.resource, name=None)\n",
      "  139764749409440: TensorSpec(shape=(), dtype=tf.resource, name=None)\n",
      "  139764749409088: TensorSpec(shape=(), dtype=tf.resource, name=None)\n",
      "  139764749408736: TensorSpec(shape=(), dtype=tf.resource, name=None)\n",
      "  139764749035120: TensorSpec(shape=(), dtype=tf.resource, name=None)\n",
      "  139764749034768: TensorSpec(shape=(), dtype=tf.resource, name=None)\n",
      "  139764749034416: TensorSpec(shape=(), dtype=tf.resource, name=None)\n",
      "  139764749034064: TensorSpec(shape=(), dtype=tf.resource, name=None)\n",
      "  139764749035472: TensorSpec(shape=(), dtype=tf.resource, name=None)\n",
      "  139764749408032: TensorSpec(shape=(), dtype=tf.resource, name=None)\n",
      "  139764749407680: TensorSpec(shape=(), dtype=tf.resource, name=None)\n",
      "  139764749407328: TensorSpec(shape=(), dtype=tf.resource, name=None)\n",
      "  139764749408384: TensorSpec(shape=(), dtype=tf.resource, name=None)\n",
      "  139764749033712: TensorSpec(shape=(), dtype=tf.resource, name=None)\n",
      "  139764749107040: TensorSpec(shape=(), dtype=tf.resource, name=None)\n",
      "  139764749406272: TensorSpec(shape=(), dtype=tf.resource, name=None)\n",
      "  139764749385392: TensorSpec(shape=(), dtype=tf.resource, name=None)\n",
      "  139764749406976: TensorSpec(shape=(), dtype=tf.resource, name=None)\n",
      "  139764749406624: TensorSpec(shape=(), dtype=tf.resource, name=None)\n",
      "  139764749106688: TensorSpec(shape=(), dtype=tf.resource, name=None)\n",
      "  139764749383984: TensorSpec(shape=(), dtype=tf.resource, name=None)\n",
      "  139764749385040: TensorSpec(shape=(), dtype=tf.resource, name=None)\n",
      "  139764749384688: TensorSpec(shape=(), dtype=tf.resource, name=None)\n",
      "  139764749384336: TensorSpec(shape=(), dtype=tf.resource, name=None)\n",
      "  139764749105984: TensorSpec(shape=(), dtype=tf.resource, name=None)\n",
      "  139764749105632: TensorSpec(shape=(), dtype=tf.resource, name=None)\n",
      "  139764749105280: TensorSpec(shape=(), dtype=tf.resource, name=None)\n",
      "  139764749104928: TensorSpec(shape=(), dtype=tf.resource, name=None)\n",
      "  139764749106336: TensorSpec(shape=(), dtype=tf.resource, name=None)\n",
      "  139764749383632: TensorSpec(shape=(), dtype=tf.resource, name=None)\n",
      "  139764749383280: TensorSpec(shape=(), dtype=tf.resource, name=None)\n",
      "  139764749382928: TensorSpec(shape=(), dtype=tf.resource, name=None)\n",
      "  139764749382576: TensorSpec(shape=(), dtype=tf.resource, name=None)\n",
      "  139764749104576: TensorSpec(shape=(), dtype=tf.resource, name=None)\n",
      "  139764749020496: TensorSpec(shape=(), dtype=tf.resource, name=None)\n",
      "  139764749381872: TensorSpec(shape=(), dtype=tf.resource, name=None)\n",
      "  139764749381472: TensorSpec(shape=(), dtype=tf.resource, name=None)\n",
      "  139764749381120: TensorSpec(shape=(), dtype=tf.resource, name=None)\n",
      "  139764749382224: TensorSpec(shape=(), dtype=tf.resource, name=None)\n",
      "  139764749020144: TensorSpec(shape=(), dtype=tf.resource, name=None)\n",
      "  139764749380064: TensorSpec(shape=(), dtype=tf.resource, name=None)\n",
      "  139764749379712: TensorSpec(shape=(), dtype=tf.resource, name=None)\n",
      "  139764749380768: TensorSpec(shape=(), dtype=tf.resource, name=None)\n",
      "  139764749380416: TensorSpec(shape=(), dtype=tf.resource, name=None)\n",
      "  139764749104224: TensorSpec(shape=(), dtype=tf.resource, name=None)\n",
      "  139764749103872: TensorSpec(shape=(), dtype=tf.resource, name=None)\n",
      "  139764749103520: TensorSpec(shape=(), dtype=tf.resource, name=None)\n",
      "  139764749103168: TensorSpec(shape=(), dtype=tf.resource, name=None)\n",
      "  139764749019792: TensorSpec(shape=(), dtype=tf.resource, name=None)\n",
      "  139764749379360: TensorSpec(shape=(), dtype=tf.resource, name=None)\n",
      "  139764749379008: TensorSpec(shape=(), dtype=tf.resource, name=None)\n",
      "  139764749378656: TensorSpec(shape=(), dtype=tf.resource, name=None)\n",
      "  139764749378304: TensorSpec(shape=(), dtype=tf.resource, name=None)\n",
      "  139764749020848: TensorSpec(shape=(), dtype=tf.resource, name=None)\n",
      "  139764749019440: TensorSpec(shape=(), dtype=tf.resource, name=None)\n",
      "  139764749377952: TensorSpec(shape=(), dtype=tf.resource, name=None)\n",
      "  139764749377600: TensorSpec(shape=(), dtype=tf.resource, name=None)\n",
      "  139759956164272: TensorSpec(shape=(), dtype=tf.resource, name=None)\n",
      "  139759956163920: TensorSpec(shape=(), dtype=tf.resource, name=None)\n",
      "  139764749019088: TensorSpec(shape=(), dtype=tf.resource, name=None)\n",
      "  139759956163216: TensorSpec(shape=(), dtype=tf.resource, name=None)\n",
      "  139759956162864: TensorSpec(shape=(), dtype=tf.resource, name=None)\n",
      "  139759956162512: TensorSpec(shape=(), dtype=tf.resource, name=None)\n",
      "  139759956163568: TensorSpec(shape=(), dtype=tf.resource, name=None)\n",
      "  139764749018384: TensorSpec(shape=(), dtype=tf.resource, name=None)\n",
      "  139764749018032: TensorSpec(shape=(), dtype=tf.resource, name=None)\n",
      "  139764749017680: TensorSpec(shape=(), dtype=tf.resource, name=None)\n",
      "  139764749017328: TensorSpec(shape=(), dtype=tf.resource, name=None)\n",
      "  139764749018736: TensorSpec(shape=(), dtype=tf.resource, name=None)\n",
      "  139759956161456: TensorSpec(shape=(), dtype=tf.resource, name=None)\n",
      "  139759956161104: TensorSpec(shape=(), dtype=tf.resource, name=None)\n",
      "  139759956162160: TensorSpec(shape=(), dtype=tf.resource, name=None)\n",
      "  139759956161808: TensorSpec(shape=(), dtype=tf.resource, name=None)\n",
      "  139764748910432: TensorSpec(shape=(), dtype=tf.resource, name=None)\n",
      "  139764748910080: TensorSpec(shape=(), dtype=tf.resource, name=None)\n",
      "  139759956155904: TensorSpec(shape=(), dtype=tf.resource, name=None)\n",
      "  139759956155552: TensorSpec(shape=(), dtype=tf.resource, name=None)\n",
      "  139759956160752: TensorSpec(shape=(), dtype=tf.resource, name=None)\n",
      "  139759956156256: TensorSpec(shape=(), dtype=tf.resource, name=None)\n",
      "  139764748909728: TensorSpec(shape=(), dtype=tf.resource, name=None)\n",
      "  139759956155200: TensorSpec(shape=(), dtype=tf.resource, name=None)\n",
      "  139759956154848: TensorSpec(shape=(), dtype=tf.resource, name=None)\n",
      "  139759956154496: TensorSpec(shape=(), dtype=tf.resource, name=None)\n",
      "  139759956154144: TensorSpec(shape=(), dtype=tf.resource, name=None)\n",
      "  139764748908320: TensorSpec(shape=(), dtype=tf.resource, name=None)\n",
      "  139764748907968: TensorSpec(shape=(), dtype=tf.resource, name=None)\n",
      "  139764748909024: TensorSpec(shape=(), dtype=tf.resource, name=None)\n",
      "  139764748908672: TensorSpec(shape=(), dtype=tf.resource, name=None)\n",
      "  139764748909376: TensorSpec(shape=(), dtype=tf.resource, name=None)\n",
      "  139759956153440: TensorSpec(shape=(), dtype=tf.resource, name=None)\n",
      "  139759956153088: TensorSpec(shape=(), dtype=tf.resource, name=None)\n",
      "  139759956152736: TensorSpec(shape=(), dtype=tf.resource, name=None)\n",
      "  139759956153792: TensorSpec(shape=(), dtype=tf.resource, name=None)\n",
      "  139764748907616: TensorSpec(shape=(), dtype=tf.resource, name=None)\n",
      "  139764748907264: TensorSpec(shape=(), dtype=tf.resource, name=None)\n",
      "  139759956147536: TensorSpec(shape=(), dtype=tf.resource, name=None)\n",
      "  139759956147184: TensorSpec(shape=(), dtype=tf.resource, name=None)\n",
      "  139759956152384: TensorSpec(shape=(), dtype=tf.resource, name=None)\n",
      "  139759956147888: TensorSpec(shape=(), dtype=tf.resource, name=None)\n",
      "  139764748906912: TensorSpec(shape=(), dtype=tf.resource, name=None)\n",
      "  139759956145776: TensorSpec(shape=(), dtype=tf.resource, name=None)\n",
      "  139759956146832: TensorSpec(shape=(), dtype=tf.resource, name=None)\n",
      "  139759956146480: TensorSpec(shape=(), dtype=tf.resource, name=None)\n",
      "  139759956146128: TensorSpec(shape=(), dtype=tf.resource, name=None)\n",
      "  139764748897968: TensorSpec(shape=(), dtype=tf.resource, name=None)\n",
      "  139764748897616: TensorSpec(shape=(), dtype=tf.resource, name=None)\n",
      "  139764748897264: TensorSpec(shape=(), dtype=tf.resource, name=None)\n",
      "  139764748896912: TensorSpec(shape=(), dtype=tf.resource, name=None)\n",
      "  139764748906560: TensorSpec(shape=(), dtype=tf.resource, name=None)\n",
      "  139759956145424: TensorSpec(shape=(), dtype=tf.resource, name=None)\n",
      "  139759956145072: TensorSpec(shape=(), dtype=tf.resource, name=None)\n",
      "  139759956144720: TensorSpec(shape=(), dtype=tf.resource, name=None)\n",
      "  139759956144368: TensorSpec(shape=(), dtype=tf.resource, name=None)\n",
      "  139764748896560: TensorSpec(shape=(), dtype=tf.resource, name=None)\n",
      "  139764748896208: TensorSpec(shape=(), dtype=tf.resource, name=None)\n",
      "  139759956131328: TensorSpec(shape=(), dtype=tf.resource, name=None)\n",
      "  139759956130976: TensorSpec(shape=(), dtype=tf.resource, name=None)\n",
      "  139759956130624: TensorSpec(shape=(), dtype=tf.resource, name=None)\n",
      "  139759956131680: TensorSpec(shape=(), dtype=tf.resource, name=None)\n",
      "  139764748895856: TensorSpec(shape=(), dtype=tf.resource, name=None)\n",
      "  139759956129568: TensorSpec(shape=(), dtype=tf.resource, name=None)\n",
      "  139759956129216: TensorSpec(shape=(), dtype=tf.resource, name=None)\n",
      "  139759956130272: TensorSpec(shape=(), dtype=tf.resource, name=None)\n",
      "  139759956129920: TensorSpec(shape=(), dtype=tf.resource, name=None)\n",
      "  139764748895152: TensorSpec(shape=(), dtype=tf.resource, name=None)\n",
      "  139764748894800: TensorSpec(shape=(), dtype=tf.resource, name=None)\n",
      "  139764748894448: TensorSpec(shape=(), dtype=tf.resource, name=None)\n",
      "  139764748902240: TensorSpec(shape=(), dtype=tf.resource, name=None)\n",
      "  139764748895504: TensorSpec(shape=(), dtype=tf.resource, name=None)\n",
      "  139759956128864: TensorSpec(shape=(), dtype=tf.resource, name=None)\n",
      "  139759956128512: TensorSpec(shape=(), dtype=tf.resource, name=None)\n",
      "  139759956128160: TensorSpec(shape=(), dtype=tf.resource, name=None)\n",
      "  139759956127808: TensorSpec(shape=(), dtype=tf.resource, name=None)\n",
      "  139764748901888: TensorSpec(shape=(), dtype=tf.resource, name=None)\n",
      "  139764748901536: TensorSpec(shape=(), dtype=tf.resource, name=None)\n",
      "  139759956135600: TensorSpec(shape=(), dtype=tf.resource, name=None)\n",
      "  139759956135248: TensorSpec(shape=(), dtype=tf.resource, name=None)\n",
      "  139759956134896: TensorSpec(shape=(), dtype=tf.resource, name=None)\n",
      "  139759956134544: TensorSpec(shape=(), dtype=tf.resource, name=None)\n",
      "  139764748901184: TensorSpec(shape=(), dtype=tf.resource, name=None)\n",
      "  139759956133840: TensorSpec(shape=(), dtype=tf.resource, name=None)\n",
      "  139759956133488: TensorSpec(shape=(), dtype=tf.resource, name=None)\n",
      "  139759956133136: TensorSpec(shape=(), dtype=tf.resource, name=None)\n",
      "  139759956134192: TensorSpec(shape=(), dtype=tf.resource, name=None)\n",
      "  139764748900480: TensorSpec(shape=(), dtype=tf.resource, name=None)\n",
      "  139764748900128: TensorSpec(shape=(), dtype=tf.resource, name=None)\n",
      "  139764748899776: TensorSpec(shape=(), dtype=tf.resource, name=None)\n",
      "  139764748899424: TensorSpec(shape=(), dtype=tf.resource, name=None)\n",
      "  139764748900832: TensorSpec(shape=(), dtype=tf.resource, name=None)\n",
      "  139759956132080: TensorSpec(shape=(), dtype=tf.resource, name=None)\n",
      "  139759956127584: TensorSpec(shape=(), dtype=tf.resource, name=None)\n",
      "  139759956132784: TensorSpec(shape=(), dtype=tf.resource, name=None)\n",
      "  139759956132432: TensorSpec(shape=(), dtype=tf.resource, name=None)\n",
      "  139764748899072: TensorSpec(shape=(), dtype=tf.resource, name=None)\n",
      "  139764748898720: TensorSpec(shape=(), dtype=tf.resource, name=None)\n",
      "  139759956126528: TensorSpec(shape=(), dtype=tf.resource, name=None)\n",
      "  139759956126176: TensorSpec(shape=(), dtype=tf.resource, name=None)\n",
      "  139759956127232: TensorSpec(shape=(), dtype=tf.resource, name=None)\n",
      "  139759956126880: TensorSpec(shape=(), dtype=tf.resource, name=None)\n",
      "  139764748898368: TensorSpec(shape=(), dtype=tf.resource, name=None)\n",
      "  139759956125824: TensorSpec(shape=(), dtype=tf.resource, name=None)\n",
      "  139759956125472: TensorSpec(shape=(), dtype=tf.resource, name=None)\n",
      "  139759956125120: TensorSpec(shape=(), dtype=tf.resource, name=None)\n",
      "  139759956124768: TensorSpec(shape=(), dtype=tf.resource, name=None)\n",
      "  139764748868944: TensorSpec(shape=(), dtype=tf.resource, name=None)\n",
      "  139764748868592: TensorSpec(shape=(), dtype=tf.resource, name=None)\n",
      "  139764748868240: TensorSpec(shape=(), dtype=tf.resource, name=None)\n",
      "  139764748867888: TensorSpec(shape=(), dtype=tf.resource, name=None)\n",
      "  139764748869296: TensorSpec(shape=(), dtype=tf.resource, name=None)\n",
      "  139759956124064: TensorSpec(shape=(), dtype=tf.resource, name=None)\n",
      "  139759956123712: TensorSpec(shape=(), dtype=tf.resource, name=None)\n",
      "  139759956102832: TensorSpec(shape=(), dtype=tf.resource, name=None)\n",
      "  139759956124416: TensorSpec(shape=(), dtype=tf.resource, name=None)\n",
      "  139764748867184: TensorSpec(shape=(), dtype=tf.resource, name=None)\n",
      "  139764748867536: TensorSpec(shape=(), dtype=tf.resource, name=None)\n",
      "  139759956176736: TensorSpec(shape=(), dtype=tf.resource, name=None)\n",
      "  139759956175856: TensorSpec(shape=(), dtype=tf.resource, name=None)\n",
      "  139759956022016: TensorSpec(shape=(), dtype=tf.resource, name=None)\n",
      "  139759956021664: TensorSpec(shape=(), dtype=tf.resource, name=None)\n",
      "  139764748866832: TensorSpec(shape=(), dtype=tf.resource, name=None)\n",
      "  139759956101424: TensorSpec(shape=(), dtype=tf.resource, name=None)\n",
      "  139759956102480: TensorSpec(shape=(), dtype=tf.resource, name=None)\n",
      "  139759956102128: TensorSpec(shape=(), dtype=tf.resource, name=None)\n",
      "  139759956101776: TensorSpec(shape=(), dtype=tf.resource, name=None)\n",
      "  139764748866480: TensorSpec(shape=(), dtype=tf.resource, name=None)\n",
      "  139759956101072: TensorSpec(shape=(), dtype=tf.resource, name=None)\n",
      "  139759956100720: TensorSpec(shape=(), dtype=tf.resource, name=None)\n",
      "  139759956100368: TensorSpec(shape=(), dtype=tf.resource, name=None)\n",
      "  139759956100016: TensorSpec(shape=(), dtype=tf.resource, name=None)\n",
      "  139764748865776: TensorSpec(shape=(), dtype=tf.resource, name=None)\n",
      "  139764748865376: TensorSpec(shape=(), dtype=tf.resource, name=None)\n",
      "  139764748865024: TensorSpec(shape=(), dtype=tf.resource, name=None)\n",
      "  139764748864672: TensorSpec(shape=(), dtype=tf.resource, name=None)\n",
      "  139764748866128: TensorSpec(shape=(), dtype=tf.resource, name=None)\n",
      "  139759956099312: TensorSpec(shape=(), dtype=tf.resource, name=None)\n",
      "  139759956094816: TensorSpec(shape=(), dtype=tf.resource, name=None)\n",
      "  139759956094464: TensorSpec(shape=(), dtype=tf.resource, name=None)\n",
      "  139759956099664: TensorSpec(shape=(), dtype=tf.resource, name=None)\n",
      "  139764748864320: TensorSpec(shape=(), dtype=tf.resource, name=None)\n",
      "  139764748863968: TensorSpec(shape=(), dtype=tf.resource, name=None)\n",
      "  139759956093408: TensorSpec(shape=(), dtype=tf.resource, name=None)\n",
      "  139759956093056: TensorSpec(shape=(), dtype=tf.resource, name=None)\n",
      "  139759956094112: TensorSpec(shape=(), dtype=tf.resource, name=None)\n",
      "  139759956093760: TensorSpec(shape=(), dtype=tf.resource, name=None)\n",
      "  139764748863616: TensorSpec(shape=(), dtype=tf.resource, name=None)\n",
      "  139759956092704: TensorSpec(shape=(), dtype=tf.resource, name=None)\n",
      "  139759956092352: TensorSpec(shape=(), dtype=tf.resource, name=None)\n",
      "  139759956092000: TensorSpec(shape=(), dtype=tf.resource, name=None)\n",
      "  139759956091648: TensorSpec(shape=(), dtype=tf.resource, name=None)\n",
      "  139764748862912: TensorSpec(shape=(), dtype=tf.resource, name=None)\n",
      "  139764748862560: TensorSpec(shape=(), dtype=tf.resource, name=None)\n",
      "  139764748862208: TensorSpec(shape=(), dtype=tf.resource, name=None)\n",
      "  139764748861856: TensorSpec(shape=(), dtype=tf.resource, name=None)\n",
      "  139764748863264: TensorSpec(shape=(), dtype=tf.resource, name=None)\n",
      "  139759956091296: TensorSpec(shape=(), dtype=tf.resource, name=None)\n",
      "  139759956090944: TensorSpec(shape=(), dtype=tf.resource, name=None)\n",
      "  139759956082352: TensorSpec(shape=(), dtype=tf.resource, name=None)\n",
      "  139759956082000: TensorSpec(shape=(), dtype=tf.resource, name=None)\n",
      "  139764748861504: TensorSpec(shape=(), dtype=tf.resource, name=None)\n",
      "  139764748834416: TensorSpec(shape=(), dtype=tf.resource, name=None)\n",
      "  139759956081296: TensorSpec(shape=(), dtype=tf.resource, name=None)\n",
      "  139759956080944: TensorSpec(shape=(), dtype=tf.resource, name=None)\n",
      "  139759956080592: TensorSpec(shape=(), dtype=tf.resource, name=None)\n",
      "  139759956081648: TensorSpec(shape=(), dtype=tf.resource, name=None)\n",
      "  139764748834064: TensorSpec(shape=(), dtype=tf.resource, name=None)\n",
      "  139759956079536: TensorSpec(shape=(), dtype=tf.resource, name=None)\n",
      "  139759956079184: TensorSpec(shape=(), dtype=tf.resource, name=None)\n",
      "  139759956080240: TensorSpec(shape=(), dtype=tf.resource, name=None)\n",
      "  139759956079888: TensorSpec(shape=(), dtype=tf.resource, name=None)\n",
      "  139764748836176: TensorSpec(shape=(), dtype=tf.resource, name=None)\n",
      "  139764748835824: TensorSpec(shape=(), dtype=tf.resource, name=None)\n",
      "  139764748835472: TensorSpec(shape=(), dtype=tf.resource, name=None)\n",
      "  139764748835120: TensorSpec(shape=(), dtype=tf.resource, name=None)\n",
      "  139764748836528: TensorSpec(shape=(), dtype=tf.resource, name=None)\n",
      "  139759956078832: TensorSpec(shape=(), dtype=tf.resource, name=None)\n",
      "  139759956062048: TensorSpec(shape=(), dtype=tf.resource, name=None)\n",
      "  139759956061696: TensorSpec(shape=(), dtype=tf.resource, name=None)\n",
      "  139759956061344: TensorSpec(shape=(), dtype=tf.resource, name=None)\n",
      "  139764748834768: TensorSpec(shape=(), dtype=tf.resource, name=None)\n",
      "  139764748833712: TensorSpec(shape=(), dtype=tf.resource, name=None)\n",
      "  139759956060992: TensorSpec(shape=(), dtype=tf.resource, name=None)\n",
      "  139759956060640: TensorSpec(shape=(), dtype=tf.resource, name=None)\n",
      "  139759956060288: TensorSpec(shape=(), dtype=tf.resource, name=None)\n",
      "  139759956059936: TensorSpec(shape=(), dtype=tf.resource, name=None)\n",
      "  139764748833360: TensorSpec(shape=(), dtype=tf.resource, name=None)\n",
      "  139759956059232: TensorSpec(shape=(), dtype=tf.resource, name=None)\n",
      "  139759956058880: TensorSpec(shape=(), dtype=tf.resource, name=None)\n",
      "  139759956058528: TensorSpec(shape=(), dtype=tf.resource, name=None)\n",
      "  139759956059584: TensorSpec(shape=(), dtype=tf.resource, name=None)\n",
      "  139764748803936: TensorSpec(shape=(), dtype=tf.resource, name=None)\n",
      "  139764748803584: TensorSpec(shape=(), dtype=tf.resource, name=None)\n",
      "  139764748803232: TensorSpec(shape=(), dtype=tf.resource, name=None)\n",
      "  139764748802880: TensorSpec(shape=(), dtype=tf.resource, name=None)\n",
      "  139764748833008: TensorSpec(shape=(), dtype=tf.resource, name=None)\n",
      "  139759956069360: TensorSpec(shape=(), dtype=tf.resource, name=None)\n",
      "  139759956058176: TensorSpec(shape=(), dtype=tf.resource, name=None)\n",
      "  139759956070064: TensorSpec(shape=(), dtype=tf.resource, name=None)\n",
      "  139759956069712: TensorSpec(shape=(), dtype=tf.resource, name=None)\n",
      "  139764748802528: TensorSpec(shape=(), dtype=tf.resource, name=None)\n",
      "  139764748802176: TensorSpec(shape=(), dtype=tf.resource, name=None)\n",
      "  139759956067952: TensorSpec(shape=(), dtype=tf.resource, name=None)\n",
      "  139759956069008: TensorSpec(shape=(), dtype=tf.resource, name=None)\n",
      "  139759956068656: TensorSpec(shape=(), dtype=tf.resource, name=None)\n",
      "  139759956068304: TensorSpec(shape=(), dtype=tf.resource, name=None)\n",
      "  139764748801824: TensorSpec(shape=(), dtype=tf.resource, name=None)\n",
      "  139759956067600: TensorSpec(shape=(), dtype=tf.resource, name=None)\n",
      "  139759956067248: TensorSpec(shape=(), dtype=tf.resource, name=None)\n",
      "  139759956066896: TensorSpec(shape=(), dtype=tf.resource, name=None)\n",
      "  139759956066544: TensorSpec(shape=(), dtype=tf.resource, name=None)\n",
      "  139764748801120: TensorSpec(shape=(), dtype=tf.resource, name=None)\n",
      "  139764748800768: TensorSpec(shape=(), dtype=tf.resource, name=None)\n",
      "  139764748800416: TensorSpec(shape=(), dtype=tf.resource, name=None)\n",
      "  139764748800064: TensorSpec(shape=(), dtype=tf.resource, name=None)\n",
      "  139764748801472: TensorSpec(shape=(), dtype=tf.resource, name=None)\n",
      "  139759956049408: TensorSpec(shape=(), dtype=tf.resource, name=None)\n",
      "  139759956049056: TensorSpec(shape=(), dtype=tf.resource, name=None)\n",
      "  139759956048704: TensorSpec(shape=(), dtype=tf.resource, name=None)\n",
      "  139759956049760: TensorSpec(shape=(), dtype=tf.resource, name=None)\n",
      "  139764748775088: TensorSpec(shape=(), dtype=tf.resource, name=None)\n",
      "  139764748774736: TensorSpec(shape=(), dtype=tf.resource, name=None)\n",
      "  139759956047648: TensorSpec(shape=(), dtype=tf.resource, name=None)\n",
      "  139759956047296: TensorSpec(shape=(), dtype=tf.resource, name=None)\n",
      "  139759956048352: TensorSpec(shape=(), dtype=tf.resource, name=None)\n",
      "  139759956048000: TensorSpec(shape=(), dtype=tf.resource, name=None)\n",
      "  139764748774384: TensorSpec(shape=(), dtype=tf.resource, name=None)\n",
      "  139759956046944: TensorSpec(shape=(), dtype=tf.resource, name=None)\n",
      "  139759956046592: TensorSpec(shape=(), dtype=tf.resource, name=None)\n",
      "  139759956046240: TensorSpec(shape=(), dtype=tf.resource, name=None)\n",
      "  139759956045888: TensorSpec(shape=(), dtype=tf.resource, name=None)\n",
      "  139764748773680: TensorSpec(shape=(), dtype=tf.resource, name=None)\n",
      "  139764748773328: TensorSpec(shape=(), dtype=tf.resource, name=None)\n",
      "  139764748772976: TensorSpec(shape=(), dtype=tf.resource, name=None)\n",
      "  139764748772624: TensorSpec(shape=(), dtype=tf.resource, name=None)\n",
      "  139764748774032: TensorSpec(shape=(), dtype=tf.resource, name=None)\n",
      "  139759956037296: TensorSpec(shape=(), dtype=tf.resource, name=None)\n",
      "  139759956036944: TensorSpec(shape=(), dtype=tf.resource, name=None)\n",
      "  139759956036592: TensorSpec(shape=(), dtype=tf.resource, name=None)\n",
      "  139759956036240: TensorSpec(shape=(), dtype=tf.resource, name=None)\n",
      "  139764748772272: TensorSpec(shape=(), dtype=tf.resource, name=None)\n",
      "  139764748771920: TensorSpec(shape=(), dtype=tf.resource, name=None)\n",
      "  139759956035536: TensorSpec(shape=(), dtype=tf.resource, name=None)\n",
      "  139759956035184: TensorSpec(shape=(), dtype=tf.resource, name=None)\n",
      "  139759956034832: TensorSpec(shape=(), dtype=tf.resource, name=None)\n",
      "  139759956035888: TensorSpec(shape=(), dtype=tf.resource, name=None)\n",
      "  139759956693056: TensorSpec(shape=(), dtype=tf.resource, name=None)\n",
      "  139759956647600: TensorSpec(shape=(), dtype=tf.resource, name=None)\n",
      "  139759956647248: TensorSpec(shape=(), dtype=tf.resource, name=None)\n",
      "  139759956646896: TensorSpec(shape=(), dtype=tf.resource, name=None)\n"
     ]
    }
   ],
   "source": [
    "sig = model.signatures['serving_default']\n",
    "print(sig.pretty_printed_signature())"
   ]
  },
  {
   "cell_type": "markdown",
   "metadata": {
    "id": "M4Xny1ANomi4"
   },
   "source": [
    "To run this signature on the video you need to add the outer `batch` dimension to the video first."
   ]
  },
  {
   "cell_type": "code",
   "execution_count": 11,
   "metadata": {
    "execution": {
     "iopub.execute_input": "2024-03-09T13:25:29.639417Z",
     "iopub.status.busy": "2024-03-09T13:25:29.638909Z",
     "iopub.status.idle": "2024-03-09T13:25:33.678122Z",
     "shell.execute_reply": "2024-03-09T13:25:33.677230Z"
    },
    "id": "LBOFEDG1XvZE"
   },
   "outputs": [
    {
     "name": "stderr",
     "output_type": "stream",
     "text": [
      "WARNING: All log messages before absl::InitializeLog() is called are written to STDERR\n",
      "I0000 00:00:1709990730.779735   50954 service.cc:145] XLA service 0x7f1ca4006300 initialized for platform Host (this does not guarantee that XLA will be used). Devices:\n",
      "I0000 00:00:1709990730.779797   50954 service.cc:153]   StreamExecutor device (0): Host, Default Version\n",
      "I0000 00:00:1709990730.795362   50954 device_compiler.h:188] Compiled cluster using XLA!  This line is logged at most once for the lifetime of the process.\n"
     ]
    }
   ],
   "source": [
    "#warmup\n",
    "sig(image = jumpingjack[tf.newaxis, :1]);"
   ]
  },
  {
   "cell_type": "code",
   "execution_count": 12,
   "metadata": {
    "execution": {
     "iopub.execute_input": "2024-03-09T13:25:33.682877Z",
     "iopub.status.busy": "2024-03-09T13:25:33.682193Z",
     "iopub.status.idle": "2024-03-09T13:25:48.059673Z",
     "shell.execute_reply": "2024-03-09T13:25:48.058837Z"
    },
    "id": "jCeW3KycVbGn"
   },
   "outputs": [
    {
     "name": "stdout",
     "output_type": "stream",
     "text": [
      "(600,)\n",
      "\n",
      "CPU times: user 24.1 s, sys: 771 ms, total: 24.8 s\n",
      "Wall time: 14.4 s\n"
     ]
    }
   ],
   "source": [
    "%%time\n",
    "logits = sig(image = jumpingjack[tf.newaxis, ...])\n",
    "logits = logits['classifier_head'][0]\n",
    "\n",
    "print(logits.shape)\n",
    "print()"
   ]
  },
  {
   "cell_type": "markdown",
   "metadata": {
    "id": "AE8doqkPpxED"
   },
   "source": [
    "Define a `get_top_k` function that packages the above output processing for later."
   ]
  },
  {
   "cell_type": "code",
   "execution_count": 13,
   "metadata": {
    "execution": {
     "iopub.execute_input": "2024-03-09T13:25:48.063835Z",
     "iopub.status.busy": "2024-03-09T13:25:48.063154Z",
     "iopub.status.idle": "2024-03-09T13:25:48.069066Z",
     "shell.execute_reply": "2024-03-09T13:25:48.068337Z"
    },
    "id": "OozPNO6LvZ00"
   },
   "outputs": [],
   "source": [
    "#@title\n",
    "# Get top_k labels and probabilities\n",
    "def get_top_k(probs, k=5, label_map=KINETICS_600_LABELS):\n",
    "  \"\"\"Outputs the top k model labels and probabilities on the given video.\n",
    "\n",
    "  Args:\n",
    "    probs: probability tensor of shape (num_frames, num_classes) that represents\n",
    "      the probability of each class on each frame.\n",
    "    k: the number of top predictions to select.\n",
    "    label_map: a list of labels to map logit indices to label strings.\n",
    "\n",
    "  Returns:\n",
    "    a tuple of the top-k labels and probabilities.\n",
    "  \"\"\"\n",
    "  # Sort predictions to find top_k\n",
    "  top_predictions = tf.argsort(probs, axis=-1, direction='DESCENDING')[:k]\n",
    "  # collect the labels of top_k predictions\n",
    "  top_labels = tf.gather(label_map, top_predictions, axis=-1)\n",
    "  # decode lablels\n",
    "  top_labels = [label.decode('utf8') for label in top_labels.numpy()]\n",
    "  # top_k probabilities of the predictions\n",
    "  top_probs = tf.gather(probs, top_predictions, axis=-1).numpy()\n",
    "  return tuple(zip(top_labels, top_probs))"
   ]
  },
  {
   "cell_type": "markdown",
   "metadata": {
    "id": "kTfKMT29pP_Z"
   },
   "source": [
    "Convert the `logits` to probabilities, and look up the top 5 classes for the video. The model confirms that the video is probably of `jumping jacks`."
   ]
  },
  {
   "cell_type": "code",
   "execution_count": 14,
   "metadata": {
    "execution": {
     "iopub.execute_input": "2024-03-09T13:25:48.072598Z",
     "iopub.status.busy": "2024-03-09T13:25:48.071971Z",
     "iopub.status.idle": "2024-03-09T13:25:48.084887Z",
     "shell.execute_reply": "2024-03-09T13:25:48.084150Z"
    },
    "id": "Z-SrNGsGV5Mt"
   },
   "outputs": [
    {
     "name": "stdout",
     "output_type": "stream",
     "text": [
      "jumping jacks       : 0.834\n",
      "zumba               : 0.008\n",
      "lunge               : 0.003\n",
      "doing aerobics      : 0.003\n",
      "polishing metal     : 0.002\n"
     ]
    }
   ],
   "source": [
    "probs = tf.nn.softmax(logits, axis=-1)\n",
    "for label, p in get_top_k(probs):\n",
    "  print(f'{label:20s}: {p:.3f}')"
   ]
  },
  {
   "cell_type": "markdown",
   "metadata": {
    "id": "ltdijoQpqjxZ"
   },
   "source": [
    "### The streaming model"
   ]
  },
  {
   "cell_type": "markdown",
   "metadata": {
    "id": "9dqdUPQXq45b"
   },
   "source": [
    "The previous section used a model that runs over a whole video. Often when processing a video you don't want a single prediction at the end, you want to update predictions frame by frame. The `stream` versions of the model allow you to do this.\n",
    "\n",
    "Load the `stream` version of the model."
   ]
  },
  {
   "cell_type": "code",
   "execution_count": 15,
   "metadata": {
    "execution": {
     "iopub.execute_input": "2024-03-09T13:25:48.088582Z",
     "iopub.status.busy": "2024-03-09T13:25:48.087981Z",
     "iopub.status.idle": "2024-03-09T13:26:39.693456Z",
     "shell.execute_reply": "2024-03-09T13:26:39.692598Z"
    },
    "id": "mxt0hRXFZkAM"
   },
   "outputs": [
    {
     "name": "stderr",
     "output_type": "stream",
     "text": [
      "WARNING:absl:`state/b1/l4/pool_frame_count` is not a valid tf.function parameter name. Sanitizing to `state_b1_l4_pool_frame_count`.\n"
     ]
    },
    {
     "name": "stderr",
     "output_type": "stream",
     "text": [
      "WARNING:absl:`state/b3/l1/pool_buffer` is not a valid tf.function parameter name. Sanitizing to `state_b3_l1_pool_buffer`.\n"
     ]
    },
    {
     "name": "stderr",
     "output_type": "stream",
     "text": [
      "WARNING:absl:`state/head/pool_buffer` is not a valid tf.function parameter name. Sanitizing to `state_head_pool_buffer`.\n"
     ]
    },
    {
     "name": "stderr",
     "output_type": "stream",
     "text": [
      "WARNING:absl:`state/b1/l1/pool_buffer` is not a valid tf.function parameter name. Sanitizing to `state_b1_l1_pool_buffer`.\n"
     ]
    },
    {
     "name": "stderr",
     "output_type": "stream",
     "text": [
      "WARNING:absl:`state/b4/l4/pool_buffer` is not a valid tf.function parameter name. Sanitizing to `state_b4_l4_pool_buffer`.\n"
     ]
    },
    {
     "name": "stdout",
     "output_type": "stream",
     "text": [
      "CPU times: user 49.1 s, sys: 1.96 s, total: 51.1 s\n",
      "Wall time: 51.5 s\n"
     ]
    }
   ],
   "source": [
    "%%time\n",
    "id = 'a2'\n",
    "mode = 'stream'\n",
    "version = '3'\n",
    "hub_url = f'https://tfhub.dev/tensorflow/movinet/{id}/{mode}/kinetics-600/classification/{version}'\n",
    "model = hub.load(hub_url)"
   ]
  },
  {
   "cell_type": "markdown",
   "metadata": {
    "id": "pDswtsGgsYGS"
   },
   "source": [
    "Using this model is slightly more complex than the `base` model. You have to keep track of the internal state of the model's RNNs."
   ]
  },
  {
   "cell_type": "code",
   "execution_count": 16,
   "metadata": {
    "execution": {
     "iopub.execute_input": "2024-03-09T13:26:39.698500Z",
     "iopub.status.busy": "2024-03-09T13:26:39.697810Z",
     "iopub.status.idle": "2024-03-09T13:26:39.702918Z",
     "shell.execute_reply": "2024-03-09T13:26:39.702253Z"
    },
    "id": "0fM_Vb1VsbDm"
   },
   "outputs": [
    {
     "data": {
      "text/plain": [
       "['call', 'init_states']"
      ]
     },
     "execution_count": 16,
     "metadata": {},
     "output_type": "execute_result"
    }
   ],
   "source": [
    "list(model.signatures.keys())"
   ]
  },
  {
   "cell_type": "markdown",
   "metadata": {
    "id": "ojr1_iYCtPvp"
   },
   "source": [
    "The `init_states` signature takes the video's **shape** `(batch, frames, height, width, colors)` as input, and returns a large dictionary of tensors containing the initial RNN states: "
   ]
  },
  {
   "cell_type": "code",
   "execution_count": 17,
   "metadata": {
    "execution": {
     "iopub.execute_input": "2024-03-09T13:26:39.706575Z",
     "iopub.status.busy": "2024-03-09T13:26:39.706005Z",
     "iopub.status.idle": "2024-03-09T13:26:39.710995Z",
     "shell.execute_reply": "2024-03-09T13:26:39.710329Z"
    },
    "id": "67loYFGpo_RP"
   },
   "outputs": [
    {
     "name": "stdout",
     "output_type": "stream",
     "text": [
      "Input Parameters:.\n",
      "  input_shape (KEYWORD_ONLY): TensorSpec(shape=(5,), dtype=tf.int32, name='input_shape').\n",
      "Output Type:.\n",
      "  Dict[['state/b3/l4/pool_frame_count', TensorSpec(shape=(1,), dtype=tf.int32, name='state/b3/l4/pool_frame_count')], ['state/b4/l1/pool_buffer', TensorSpec(shape=(None, 1, 1, 1, 384), dtype=tf.float32, name='state/b4/l1/pool_buffer')], ['state/b4/l2/pool_buffer', TensorSpec(shape=(None, 1, 1, 1, 384), dtype=tf.float32, name='state/b4/l2/pool_buffer')], ['state/b4/l1/pool_frame_count', TensorSpec(shape=(1,), dtype=tf.int32, name='state/b4/l1/pool_frame_count')], ['state/b2/l0/stream_buffer', TensorSpec(shape=(None, 4, None, None, 240), dtype=tf.float32, name='state/b2/l0/stream_buffer')], ['state/b0/l0/pool_buffer', TensorSpec(shape=(None, 1, 1, 1, 40), dtype=tf.float32, name='state/b0/l0/pool_buffer')], ['state/b2/l3/pool_buffer', TensorSpec(shape=(None, 1, 1, 1, 192), dtype=tf.float32, name='state/b2/l3/pool_buffer')], ['state/b3/l1/pool_frame_count', TensorSpec(shape=(1,), dtype=tf.int32, name='state/b3/l1/pool_frame_count')], ['state/b1/l3/pool_frame_count', TensorSpec(shape=(1,), dtype=tf.int32, name='state/b1/l3/pool_frame_count')], ['state/b0/l1/pool_buffer', TensorSpec(shape=(None, 1, 1, 1, 40), dtype=tf.float32, name='state/b0/l1/pool_buffer')], ['state/b3/l5/pool_frame_count', TensorSpec(shape=(1,), dtype=tf.int32, name='state/b3/l5/pool_frame_count')], ['state/b2/l2/stream_buffer', TensorSpec(shape=(None, 2, None, None, 240), dtype=tf.float32, name='state/b2/l2/stream_buffer')], ['state/b4/l3/pool_buffer', TensorSpec(shape=(None, 1, 1, 1, 480), dtype=tf.float32, name='state/b4/l3/pool_buffer')], ['state/b4/l0/pool_buffer', TensorSpec(shape=(None, 1, 1, 1, 480), dtype=tf.float32, name='state/b4/l0/pool_buffer')], ['state/b0/l2/pool_buffer', TensorSpec(shape=(None, 1, 1, 1, 64), dtype=tf.float32, name='state/b0/l2/pool_buffer')], ['state/b1/l1/stream_buffer', TensorSpec(shape=(None, 2, None, None, 120), dtype=tf.float32, name='state/b1/l1/stream_buffer')], ['state/b3/l5/pool_buffer', TensorSpec(shape=(None, 1, 1, 1, 240), dtype=tf.float32, name='state/b3/l5/pool_buffer')], ['state/b4/l6/pool_buffer', TensorSpec(shape=(None, 1, 1, 1, 576), dtype=tf.float32, name='state/b4/l6/pool_buffer')], ['state/b4/l4/pool_frame_count', TensorSpec(shape=(1,), dtype=tf.int32, name='state/b4/l4/pool_frame_count')], ['state/b3/l2/pool_frame_count', TensorSpec(shape=(1,), dtype=tf.int32, name='state/b3/l2/pool_frame_count')], ['state/b3/l0/pool_buffer', TensorSpec(shape=(None, 1, 1, 1, 240), dtype=tf.float32, name='state/b3/l0/pool_buffer')], ['state/b1/l2/stream_buffer', TensorSpec(shape=(None, 2, None, None, 96), dtype=tf.float32, name='state/b1/l2/stream_buffer')], ['state/b2/l4/stream_buffer', TensorSpec(shape=(None, 2, None, None, 240), dtype=tf.float32, name='state/b2/l4/stream_buffer')], ['state/b2/l4/pool_buffer', TensorSpec(shape=(None, 1, 1, 1, 240), dtype=tf.float32, name='state/b2/l4/pool_buffer')], ['state/b4/l5/pool_frame_count', TensorSpec(shape=(1,), dtype=tf.int32, name='state/b4/l5/pool_frame_count')], ['state/head/pool_frame_count', TensorSpec(shape=(1,), dtype=tf.int32, name='state/head/pool_frame_count')], ['state/b0/l2/pool_frame_count', TensorSpec(shape=(1,), dtype=tf.int32, name='state/b0/l2/pool_frame_count')], ['state/b4/l6/pool_frame_count', TensorSpec(shape=(1,), dtype=tf.int32, name='state/b4/l6/pool_frame_count')], ['state/b4/l5/stream_buffer', TensorSpec(shape=(None, 2, None, None, 480), dtype=tf.float32, name='state/b4/l5/stream_buffer')], ['state/b1/l3/pool_buffer', TensorSpec(shape=(None, 1, 1, 1, 96), dtype=tf.float32, name='state/b1/l3/pool_buffer')], ['state/b3/l0/pool_frame_count', TensorSpec(shape=(1,), dtype=tf.int32, name='state/b3/l0/pool_frame_count')], ['state/b3/l3/pool_frame_count', TensorSpec(shape=(1,), dtype=tf.int32, name='state/b3/l3/pool_frame_count')], ['state/b1/l4/pool_frame_count', TensorSpec(shape=(1,), dtype=tf.int32, name='state/b1/l4/pool_frame_count')], ['state/b1/l2/pool_buffer', TensorSpec(shape=(None, 1, 1, 1, 96), dtype=tf.float32, name='state/b1/l2/pool_buffer')], ['state/b3/l1/pool_buffer', TensorSpec(shape=(None, 1, 1, 1, 240), dtype=tf.float32, name='state/b3/l1/pool_buffer')], ['state/b2/l1/pool_buffer', TensorSpec(shape=(None, 1, 1, 1, 160), dtype=tf.float32, name='state/b2/l1/pool_buffer')], ['state/b2/l3/stream_buffer', TensorSpec(shape=(None, 2, None, None, 192), dtype=tf.float32, name='state/b2/l3/stream_buffer')], ['state/b3/l1/stream_buffer', TensorSpec(shape=(None, 2, None, None, 240), dtype=tf.float32, name='state/b3/l1/stream_buffer')], ['state/b1/l1/pool_frame_count', TensorSpec(shape=(1,), dtype=tf.int32, name='state/b1/l1/pool_frame_count')], ['state/b0/l1/stream_buffer', TensorSpec(shape=(None, 2, None, None, 40), dtype=tf.float32, name='state/b0/l1/stream_buffer')], ['state/b3/l3/pool_buffer', TensorSpec(shape=(None, 1, 1, 1, 240), dtype=tf.float32, name='state/b3/l3/pool_buffer')], ['state/b1/l4/pool_buffer', TensorSpec(shape=(None, 1, 1, 1, 120), dtype=tf.float32, name='state/b1/l4/pool_buffer')], ['state/b4/l4/pool_buffer', TensorSpec(shape=(None, 1, 1, 1, 480), dtype=tf.float32, name='state/b4/l4/pool_buffer')], ['state/b4/l2/pool_frame_count', TensorSpec(shape=(1,), dtype=tf.int32, name='state/b4/l2/pool_frame_count')], ['state/b3/l5/stream_buffer', TensorSpec(shape=(None, 2, None, None, 240), dtype=tf.float32, name='state/b3/l5/stream_buffer')], ['state/b1/l0/pool_buffer', TensorSpec(shape=(None, 1, 1, 1, 96), dtype=tf.float32, name='state/b1/l0/pool_buffer')], ['state/b4/l0/pool_frame_count', TensorSpec(shape=(1,), dtype=tf.int32, name='state/b4/l0/pool_frame_count')], ['state/b3/l2/pool_buffer', TensorSpec(shape=(None, 1, 1, 1, 240), dtype=tf.float32, name='state/b3/l2/pool_buffer')], ['state/b3/l0/stream_buffer', TensorSpec(shape=(None, 4, None, None, 240), dtype=tf.float32, name='state/b3/l0/stream_buffer')], ['state/b2/l2/pool_frame_count', TensorSpec(shape=(1,), dtype=tf.int32, name='state/b2/l2/pool_frame_count')], ['state/b3/l2/stream_buffer', TensorSpec(shape=(None, 2, None, None, 240), dtype=tf.float32, name='state/b3/l2/stream_buffer')], ['state/b4/l0/stream_buffer', TensorSpec(shape=(None, 4, None, None, 480), dtype=tf.float32, name='state/b4/l0/stream_buffer')], ['state/b0/l1/pool_frame_count', TensorSpec(shape=(1,), dtype=tf.int32, name='state/b0/l1/pool_frame_count')], ['state/b1/l3/stream_buffer', TensorSpec(shape=(None, 2, None, None, 96), dtype=tf.float32, name='state/b1/l3/stream_buffer')], ['state/b2/l1/pool_frame_count', TensorSpec(shape=(1,), dtype=tf.int32, name='state/b2/l1/pool_frame_count')], ['state/b0/l2/stream_buffer', TensorSpec(shape=(None, 2, None, None, 64), dtype=tf.float32, name='state/b0/l2/stream_buffer')], ['state/b2/l0/pool_buffer', TensorSpec(shape=(None, 1, 1, 1, 240), dtype=tf.float32, name='state/b2/l0/pool_buffer')], ['state/b3/l3/stream_buffer', TensorSpec(shape=(None, 2, None, None, 240), dtype=tf.float32, name='state/b3/l3/stream_buffer')], ['state/b1/l4/stream_buffer', TensorSpec(shape=(None, 2, None, None, 120), dtype=tf.float32, name='state/b1/l4/stream_buffer')], ['state/b3/l4/pool_buffer', TensorSpec(shape=(None, 1, 1, 1, 144), dtype=tf.float32, name='state/b3/l4/pool_buffer')], ['state/b2/l3/pool_frame_count', TensorSpec(shape=(1,), dtype=tf.int32, name='state/b2/l3/pool_frame_count')], ['state/b4/l5/pool_buffer', TensorSpec(shape=(None, 1, 1, 1, 480), dtype=tf.float32, name='state/b4/l5/pool_buffer')], ['state/b1/l0/pool_frame_count', TensorSpec(shape=(1,), dtype=tf.int32, name='state/b1/l0/pool_frame_count')], ['state/b0/l0/pool_frame_count', TensorSpec(shape=(1,), dtype=tf.int32, name='state/b0/l0/pool_frame_count')], ['state/b2/l2/pool_buffer', TensorSpec(shape=(None, 1, 1, 1, 240), dtype=tf.float32, name='state/b2/l2/pool_buffer')], ['state/b1/l2/pool_frame_count', TensorSpec(shape=(1,), dtype=tf.int32, name='state/b1/l2/pool_frame_count')], ['state/b4/l3/pool_frame_count', TensorSpec(shape=(1,), dtype=tf.int32, name='state/b4/l3/pool_frame_count')], ['state/b1/l0/stream_buffer', TensorSpec(shape=(None, 2, None, None, 96), dtype=tf.float32, name='state/b1/l0/stream_buffer')], ['state/head/pool_buffer', TensorSpec(shape=(None, 1, 1, 1, 640), dtype=tf.float32, name='state/head/pool_buffer')], ['state/b2/l0/pool_frame_count', TensorSpec(shape=(1,), dtype=tf.int32, name='state/b2/l0/pool_frame_count')], ['state/b1/l1/pool_buffer', TensorSpec(shape=(None, 1, 1, 1, 120), dtype=tf.float32, name='state/b1/l1/pool_buffer')], ['state/b2/l4/pool_frame_count', TensorSpec(shape=(1,), dtype=tf.int32, name='state/b2/l4/pool_frame_count')], ['state/b2/l1/stream_buffer', TensorSpec(shape=(None, 2, None, None, 160), dtype=tf.float32, name='state/b2/l1/stream_buffer')]].\n",
      "Captures:.\n",
      "  None.\n",
      "      ...\n"
     ]
    }
   ],
   "source": [
    "lines = model.signatures['init_states'].pretty_printed_signature().splitlines()\n",
    "lines = lines[:10]\n",
    "lines.append('      ...')\n",
    "print('.\\n'.join(lines))"
   ]
  },
  {
   "cell_type": "code",
   "execution_count": 18,
   "metadata": {
    "execution": {
     "iopub.execute_input": "2024-03-09T13:26:39.714343Z",
     "iopub.status.busy": "2024-03-09T13:26:39.713799Z",
     "iopub.status.idle": "2024-03-09T13:26:40.050817Z",
     "shell.execute_reply": "2024-03-09T13:26:40.049953Z"
    },
    "id": "v5lG3vejn5df"
   },
   "outputs": [],
   "source": [
    "initial_state = model.init_states(jumpingjack[tf.newaxis, ...].shape)"
   ]
  },
  {
   "cell_type": "code",
   "execution_count": 19,
   "metadata": {
    "execution": {
     "iopub.execute_input": "2024-03-09T13:26:40.054924Z",
     "iopub.status.busy": "2024-03-09T13:26:40.054635Z",
     "iopub.status.idle": "2024-03-09T13:26:40.059478Z",
     "shell.execute_reply": "2024-03-09T13:26:40.058809Z"
    },
    "id": "J3DwmyHnuhH_"
   },
   "outputs": [
    {
     "data": {
      "text/plain": [
       "dict"
      ]
     },
     "execution_count": 19,
     "metadata": {},
     "output_type": "execute_result"
    }
   ],
   "source": [
    "type(initial_state)"
   ]
  },
  {
   "cell_type": "code",
   "execution_count": 20,
   "metadata": {
    "execution": {
     "iopub.execute_input": "2024-03-09T13:26:40.062844Z",
     "iopub.status.busy": "2024-03-09T13:26:40.062295Z",
     "iopub.status.idle": "2024-03-09T13:26:40.067030Z",
     "shell.execute_reply": "2024-03-09T13:26:40.066393Z"
    },
    "id": "K8SyiEU6tB-e"
   },
   "outputs": [
    {
     "data": {
      "text/plain": [
       "['state/b0/l0/pool_buffer',\n",
       " 'state/b0/l0/pool_frame_count',\n",
       " 'state/b0/l1/pool_buffer',\n",
       " 'state/b0/l1/pool_frame_count',\n",
       " 'state/b0/l1/stream_buffer']"
      ]
     },
     "execution_count": 20,
     "metadata": {},
     "output_type": "execute_result"
    }
   ],
   "source": [
    "list(sorted(initial_state.keys()))[:5]"
   ]
  },
  {
   "cell_type": "markdown",
   "metadata": {
    "id": "xeMCzJMBvwRF"
   },
   "source": [
    "Once you have the initial state for the RNNs, you can pass the state and a video frame as input (keeping the `(batch, frames, height, width, colors)` shape for the video frame). The model returns a `(logits, state)` pair. \n",
    "\n",
    "After just seeing the first frame, the model is not convinced that the video is of \"jumping jacks\":"
   ]
  },
  {
   "cell_type": "code",
   "execution_count": 21,
   "metadata": {
    "execution": {
     "iopub.execute_input": "2024-03-09T13:26:40.070494Z",
     "iopub.status.busy": "2024-03-09T13:26:40.069916Z",
     "iopub.status.idle": "2024-03-09T13:26:40.075209Z",
     "shell.execute_reply": "2024-03-09T13:26:40.074551Z"
    },
    "id": "McSLdIgtsI3d"
   },
   "outputs": [],
   "source": [
    "inputs = initial_state.copy()\n",
    "\n",
    "# Add the batch axis, take the first frme, but keep the frame-axis.\n",
    "inputs['image'] = jumpingjack[tf.newaxis, 0:1, ...] "
   ]
  },
  {
   "cell_type": "code",
   "execution_count": 22,
   "metadata": {
    "execution": {
     "iopub.execute_input": "2024-03-09T13:26:40.078352Z",
     "iopub.status.busy": "2024-03-09T13:26:40.077938Z",
     "iopub.status.idle": "2024-03-09T13:26:45.560301Z",
     "shell.execute_reply": "2024-03-09T13:26:45.559395Z"
    },
    "id": "WlH7PqLPX664"
   },
   "outputs": [],
   "source": [
    "# warmup\n",
    "model(inputs);"
   ]
  },
  {
   "cell_type": "code",
   "execution_count": 23,
   "metadata": {
    "execution": {
     "iopub.execute_input": "2024-03-09T13:26:45.564763Z",
     "iopub.status.busy": "2024-03-09T13:26:45.564081Z",
     "iopub.status.idle": "2024-03-09T13:26:45.626745Z",
     "shell.execute_reply": "2024-03-09T13:26:45.625916Z"
    },
    "id": "7uzNXtu7X5sr"
   },
   "outputs": [
    {
     "name": "stdout",
     "output_type": "stream",
     "text": [
      "golf chipping       : 0.427\n",
      "tackling            : 0.134\n",
      "lunge               : 0.056\n",
      "stretching arm      : 0.053\n",
      "passing american football (not in game): 0.039\n",
      "\n"
     ]
    }
   ],
   "source": [
    "logits, new_state = model(inputs)\n",
    "logits = logits[0]\n",
    "probs = tf.nn.softmax(logits, axis=-1)\n",
    "\n",
    "for label, p in get_top_k(probs):\n",
    "  print(f'{label:20s}: {p:.3f}')\n",
    "\n",
    "print()"
   ]
  },
  {
   "cell_type": "markdown",
   "metadata": {
    "id": "oLU644FQwXSb"
   },
   "source": [
    "If you run the model in a loop, passing the updated state with each frame, the model quickly converges to the correct result:"
   ]
  },
  {
   "cell_type": "code",
   "execution_count": 24,
   "metadata": {
    "execution": {
     "iopub.execute_input": "2024-03-09T13:26:45.630801Z",
     "iopub.status.busy": "2024-03-09T13:26:45.630125Z",
     "iopub.status.idle": "2024-03-09T13:26:46.332931Z",
     "shell.execute_reply": "2024-03-09T13:26:46.331812Z"
    },
    "id": "Fzm7T4ImmIEg"
   },
   "outputs": [
    {
     "name": "stdout",
     "output_type": "stream",
     "text": [
      "CPU times: user 1.5 s, sys: 374 ms, total: 1.87 s\n",
      "Wall time: 696 ms\n"
     ]
    }
   ],
   "source": [
    "%%time\n",
    "state = initial_state.copy()\n",
    "all_logits = []\n",
    "\n",
    "for n in range(len(jumpingjack)):\n",
    "  inputs = state\n",
    "  inputs['image'] = jumpingjack[tf.newaxis, n:n+1, ...]\n",
    "  result, state = model(inputs)\n",
    "  all_logits.append(logits)\n",
    "\n",
    "probabilities = tf.nn.softmax(all_logits, axis=-1)"
   ]
  },
  {
   "cell_type": "code",
   "execution_count": 25,
   "metadata": {
    "execution": {
     "iopub.execute_input": "2024-03-09T13:26:46.337201Z",
     "iopub.status.busy": "2024-03-09T13:26:46.336392Z",
     "iopub.status.idle": "2024-03-09T13:26:46.344285Z",
     "shell.execute_reply": "2024-03-09T13:26:46.343343Z"
    },
    "id": "B7UtHoSWcOT2"
   },
   "outputs": [
    {
     "name": "stdout",
     "output_type": "stream",
     "text": [
      "golf chipping       : 0.427\n",
      "tackling            : 0.134\n",
      "lunge               : 0.056\n",
      "stretching arm      : 0.053\n",
      "passing american football (not in game): 0.039\n"
     ]
    }
   ],
   "source": [
    "for label, p in get_top_k(probabilities[-1]):\n",
    "  print(f'{label:20s}: {p:.3f}')"
   ]
  },
  {
   "cell_type": "code",
   "execution_count": 26,
   "metadata": {
    "execution": {
     "iopub.execute_input": "2024-03-09T13:26:46.347942Z",
     "iopub.status.busy": "2024-03-09T13:26:46.347213Z",
     "iopub.status.idle": "2024-03-09T13:26:46.575478Z",
     "shell.execute_reply": "2024-03-09T13:26:46.574704Z"
    },
    "id": "6ffV3NhZcsrv"
   },
   "outputs": [
    {
     "data": {
      "image/png": "[encoded data removed]",
      "text/plain": [
       "<Figure size 640x480 with 1 Axes>"
      ]
     },
     "metadata": {},
     "output_type": "display_data"
    }
   ],
   "source": [
    "id = tf.argmax(probabilities[-1])\n",
    "plt.plot(probabilities[:, id])\n",
    "plt.xlabel('Frame #')\n",
    "plt.ylabel(f\"p('{KINETICS_600_LABELS[id]}')\");"
   ]
  },
  {
   "cell_type": "markdown",
   "metadata": {
    "id": "d7MZ_AfRW845"
   },
   "source": [
    "You may notice that the final probability is much more certain than in the previous section where you ran the `base` model. The `base` model returns an average of the predictions over the frames."
   ]
  },
  {
   "cell_type": "code",
   "execution_count": 27,
   "metadata": {
    "execution": {
     "iopub.execute_input": "2024-03-09T13:26:46.579472Z",
     "iopub.status.busy": "2024-03-09T13:26:46.578827Z",
     "iopub.status.idle": "2024-03-09T13:26:46.586320Z",
     "shell.execute_reply": "2024-03-09T13:26:46.585621Z"
    },
    "id": "0Wij4tsyW8dR"
   },
   "outputs": [
    {
     "name": "stdout",
     "output_type": "stream",
     "text": [
      "golf chipping       : 0.427\n",
      "tackling            : 0.134\n",
      "lunge               : 0.056\n",
      "stretching arm      : 0.053\n",
      "passing american football (not in game): 0.039\n"
     ]
    }
   ],
   "source": [
    "for label, p in get_top_k(tf.reduce_mean(probabilities, axis=0)):\n",
    "  print(f'{label:20s}: {p:.3f}')"
   ]
  },
  {
   "cell_type": "markdown",
   "metadata": {
    "id": "qLUoC9ejggGo"
   },
   "source": [
    "## Animate the predictions over time\n",
    "\n",
    "The previous section went into some details about how to use these models. This section builds on top of that to produce some nice inference animations. "
   ]
  },
  {
   "cell_type": "markdown",
   "metadata": {
    "id": "OnFqOXazoWgy"
   },
   "source": [
    "The hidden cell below to defines helper functions used in this section."
   ]
  },
  {
   "cell_type": "code",
   "execution_count": 28,
   "metadata": {
    "cellView": "form",
    "execution": {
     "iopub.execute_input": "2024-03-09T13:26:46.590120Z",
     "iopub.status.busy": "2024-03-09T13:26:46.589730Z",
     "iopub.status.idle": "2024-03-09T13:26:46.610263Z",
     "shell.execute_reply": "2024-03-09T13:26:46.609542Z"
    },
    "id": "dx55NK3ZoZeh"
   },
   "outputs": [],
   "source": [
    "#@title\n",
    "# Get top_k labels and probabilities predicted using MoViNets streaming model\n",
    "def get_top_k_streaming_labels(probs, k=5, label_map=KINETICS_600_LABELS):\n",
    "  \"\"\"Returns the top-k labels over an entire video sequence.\n",
    "\n",
    "  Args:\n",
    "    probs: probability tensor of shape (num_frames, num_classes) that represents\n",
    "      the probability of each class on each frame.\n",
    "    k: the number of top predictions to select.\n",
    "    label_map: a list of labels to map logit indices to label strings.\n",
    "\n",
    "  Returns:\n",
    "    a tuple of the top-k probabilities, labels, and logit indices\n",
    "  \"\"\"\n",
    "  top_categories_last = tf.argsort(probs, -1, 'DESCENDING')[-1, :1]\n",
    "  # Sort predictions to find top_k\n",
    "  categories = tf.argsort(probs, -1, 'DESCENDING')[:, :k]\n",
    "  categories = tf.reshape(categories, [-1])\n",
    "\n",
    "  counts = sorted([\n",
    "      (i.numpy(), tf.reduce_sum(tf.cast(categories == i, tf.int32)).numpy())\n",
    "      for i in tf.unique(categories)[0]\n",
    "  ], key=lambda x: x[1], reverse=True)\n",
    "\n",
    "  top_probs_idx = tf.constant([i for i, _ in counts[:k]])\n",
    "  top_probs_idx = tf.concat([top_categories_last, top_probs_idx], 0)\n",
    "  # find unique indices of categories\n",
    "  top_probs_idx = tf.unique(top_probs_idx)[0][:k+1]\n",
    "  # top_k probabilities of the predictions\n",
    "  top_probs = tf.gather(probs, top_probs_idx, axis=-1)\n",
    "  top_probs = tf.transpose(top_probs, perm=(1, 0))\n",
    "  # collect the labels of top_k predictions\n",
    "  top_labels = tf.gather(label_map, top_probs_idx, axis=0)\n",
    "  # decode the top_k labels\n",
    "  top_labels = [label.decode('utf8') for label in top_labels.numpy()]\n",
    "\n",
    "  return top_probs, top_labels, top_probs_idx\n",
    "\n",
    "# Plot top_k predictions at a given time step\n",
    "def plot_streaming_top_preds_at_step(\n",
    "    top_probs,\n",
    "    top_labels,\n",
    "    step=None,\n",
    "    image=None,\n",
    "    legend_loc='lower left',\n",
    "    duration_seconds=10,\n",
    "    figure_height=500,\n",
    "    playhead_scale=0.8,\n",
    "    grid_alpha=0.3):\n",
    "  \"\"\"Generates a plot of the top video model predictions at a given time step.\n",
    "\n",
    "  Args:\n",
    "    top_probs: a tensor of shape (k, num_frames) representing the top-k\n",
    "      probabilities over all frames.\n",
    "    top_labels: a list of length k that represents the top-k label strings.\n",
    "    step: the current time step in the range [0, num_frames].\n",
    "    image: the image frame to display at the current time step.\n",
    "    legend_loc: the placement location of the legend.\n",
    "    duration_seconds: the total duration of the video.\n",
    "    figure_height: the output figure height.\n",
    "    playhead_scale: scale value for the playhead.\n",
    "    grid_alpha: alpha value for the gridlines.\n",
    "\n",
    "  Returns:\n",
    "    A tuple of the output numpy image, figure, and axes.\n",
    "  \"\"\"\n",
    "  # find number of top_k labels and frames in the video\n",
    "  num_labels, num_frames = top_probs.shape\n",
    "  if step is None:\n",
    "    step = num_frames\n",
    "  # Visualize frames and top_k probabilities of streaming video\n",
    "  fig = plt.figure(figsize=(6.5, 7), dpi=300)\n",
    "  gs = mpl.gridspec.GridSpec(8, 1)\n",
    "  ax2 = plt.subplot(gs[:-3, :])\n",
    "  ax = plt.subplot(gs[-3:, :])\n",
    "  # display the frame\n",
    "  if image is not None:\n",
    "    ax2.imshow(image, interpolation='nearest')\n",
    "    ax2.axis('off')\n",
    "  # x-axis (frame number)\n",
    "  preview_line_x = tf.linspace(0., duration_seconds, num_frames)\n",
    "  # y-axis (top_k probabilities)\n",
    "  preview_line_y = top_probs\n",
    "\n",
    "  line_x = preview_line_x[:step+1]\n",
    "  line_y = preview_line_y[:, :step+1]\n",
    "\n",
    "  for i in range(num_labels):\n",
    "    ax.plot(preview_line_x, preview_line_y[i], label=None, linewidth='1.5',\n",
    "            linestyle=':', color='gray')\n",
    "    ax.plot(line_x, line_y[i], label=top_labels[i], linewidth='2.0')\n",
    "\n",
    "\n",
    "  ax.grid(which='major', linestyle=':', linewidth='1.0', alpha=grid_alpha)\n",
    "  ax.grid(which='minor', linestyle=':', linewidth='0.5', alpha=grid_alpha)\n",
    "\n",
    "  min_height = tf.reduce_min(top_probs) * playhead_scale\n",
    "  max_height = tf.reduce_max(top_probs)\n",
    "  ax.vlines(preview_line_x[step], min_height, max_height, colors='red')\n",
    "  ax.scatter(preview_line_x[step], max_height, color='red')\n",
    "\n",
    "  ax.legend(loc=legend_loc)\n",
    "\n",
    "  plt.xlim(0, duration_seconds)\n",
    "  plt.ylabel('Probability')\n",
    "  plt.xlabel('Time (s)')\n",
    "  plt.yscale('log')\n",
    "\n",
    "  fig.tight_layout()\n",
    "  fig.canvas.draw()\n",
    "\n",
    "  data = np.frombuffer(fig.canvas.tostring_rgb(), dtype=np.uint8)\n",
    "  data = data.reshape(fig.canvas.get_width_height()[::-1] + (3,))\n",
    "  plt.close()\n",
    "\n",
    "  figure_width = int(figure_height * data.shape[1] / data.shape[0])\n",
    "  image = PIL.Image.fromarray(data).resize([figure_width, figure_height])\n",
    "  image = np.array(image)\n",
    "\n",
    "  return image\n",
    "\n",
    "# Plotting top_k predictions from MoViNets streaming model\n",
    "def plot_streaming_top_preds(\n",
    "    probs,\n",
    "    video,\n",
    "    top_k=5,\n",
    "    video_fps=25.,\n",
    "    figure_height=500,\n",
    "    use_progbar=True):\n",
    "  \"\"\"Generates a video plot of the top video model predictions.\n",
    "\n",
    "  Args:\n",
    "    probs: probability tensor of shape (num_frames, num_classes) that represents\n",
    "      the probability of each class on each frame.\n",
    "    video: the video to display in the plot.\n",
    "    top_k: the number of top predictions to select.\n",
    "    video_fps: the input video fps.\n",
    "    figure_fps: the output video fps.\n",
    "    figure_height: the height of the output video.\n",
    "    use_progbar: display a progress bar.\n",
    "\n",
    "  Returns:\n",
    "    A numpy array representing the output video.\n",
    "  \"\"\"\n",
    "  # select number of frames per second\n",
    "  video_fps = 8.\n",
    "  # select height of the image\n",
    "  figure_height = 500\n",
    "  # number of time steps of the given video\n",
    "  steps = video.shape[0]\n",
    "  # estimate duration of the video (in seconds)\n",
    "  duration = steps / video_fps\n",
    "  # estimate top_k probabilities and corresponding labels\n",
    "  top_probs, top_labels, _ = get_top_k_streaming_labels(probs, k=top_k)\n",
    "\n",
    "  images = []\n",
    "  step_generator = tqdm.trange(steps) if use_progbar else range(steps)\n",
    "  for i in step_generator:\n",
    "    image = plot_streaming_top_preds_at_step(\n",
    "        top_probs=top_probs,\n",
    "        top_labels=top_labels,\n",
    "        step=i,\n",
    "        image=video[i],\n",
    "        duration_seconds=duration,\n",
    "        figure_height=figure_height,\n",
    "    )\n",
    "    images.append(image)\n",
    "\n",
    "  return np.array(images)"
   ]
  },
  {
   "cell_type": "markdown",
   "metadata": {
    "id": "eLgFBslcZOQO"
   },
   "source": [
    "Start by running the streaming model across the frames of the video, and collecting the logits:"
   ]
  },
  {
   "cell_type": "code",
   "execution_count": 29,
   "metadata": {
    "execution": {
     "iopub.execute_input": "2024-03-09T13:26:46.613693Z",
     "iopub.status.busy": "2024-03-09T13:26:46.613144Z",
     "iopub.status.idle": "2024-03-09T13:26:46.871014Z",
     "shell.execute_reply": "2024-03-09T13:26:46.869969Z"
    },
    "id": "tXWR13wthnK5"
   },
   "outputs": [],
   "source": [
    "init_states = model.init_states(jumpingjack[tf.newaxis].shape)"
   ]
  },
  {
   "cell_type": "code",
   "execution_count": 30,
   "metadata": {
    "execution": {
     "iopub.execute_input": "2024-03-09T13:26:46.875370Z",
     "iopub.status.busy": "2024-03-09T13:26:46.874878Z",
     "iopub.status.idle": "2024-03-09T13:26:47.577099Z",
     "shell.execute_reply": "2024-03-09T13:26:47.576309Z"
    },
    "id": "YqSkt7l8ltwt"
   },
   "outputs": [
    {
     "name": "stderr",
     "output_type": "stream",
     "text": [
      "\r",
      "  0%|          | 0/13 [00:00<?, ?it/s]"
     ]
    },
    {
     "name": "stderr",
     "output_type": "stream",
     "text": [
      "\r",
      " 15%|█▌        | 2/13 [00:00<00:00, 18.61it/s]"
     ]
    },
    {
     "name": "stderr",
     "output_type": "stream",
     "text": [
      "\r",
      " 31%|███       | 4/13 [00:00<00:00, 18.78it/s]"
     ]
    },
    {
     "name": "stderr",
     "output_type": "stream",
     "text": [
      "\r",
      " 46%|████▌     | 6/13 [00:00<00:00, 18.96it/s]"
     ]
    },
    {
     "name": "stderr",
     "output_type": "stream",
     "text": [
      "\r",
      " 62%|██████▏   | 8/13 [00:00<00:00, 18.94it/s]"
     ]
    },
    {
     "name": "stderr",
     "output_type": "stream",
     "text": [
      "\r",
      " 77%|███████▋  | 10/13 [00:00<00:00, 18.96it/s]"
     ]
    },
    {
     "name": "stderr",
     "output_type": "stream",
     "text": [
      "\r",
      " 92%|█████████▏| 12/13 [00:00<00:00, 18.97it/s]"
     ]
    },
    {
     "name": "stderr",
     "output_type": "stream",
     "text": [
      "\r",
      "100%|██████████| 13/13 [00:00<00:00, 18.92it/s]"
     ]
    },
    {
     "name": "stderr",
     "output_type": "stream",
     "text": [
      "\n"
     ]
    }
   ],
   "source": [
    "# Insert your video clip here\n",
    "video = jumpingjack\n",
    "images = tf.split(video[tf.newaxis], video.shape[0], axis=1)\n",
    "\n",
    "all_logits = []\n",
    "\n",
    "# To run on a video, pass in one frame at a time\n",
    "states = init_states\n",
    "for image in tqdm.tqdm(images):\n",
    "  # predictions for each frame\n",
    "  logits, states = model({**states, 'image': image})\n",
    "  all_logits.append(logits)\n",
    "\n",
    "# concatenating all the logits\n",
    "logits = tf.concat(all_logits, 0)\n",
    "# estimating probabilities\n",
    "probs = tf.nn.softmax(logits, axis=-1)"
   ]
  },
  {
   "cell_type": "code",
   "execution_count": 31,
   "metadata": {
    "execution": {
     "iopub.execute_input": "2024-03-09T13:26:47.580759Z",
     "iopub.status.busy": "2024-03-09T13:26:47.580121Z",
     "iopub.status.idle": "2024-03-09T13:26:47.586942Z",
     "shell.execute_reply": "2024-03-09T13:26:47.586254Z"
    },
    "id": "OOGcCMMJyuPl"
   },
   "outputs": [
    {
     "name": "stdout",
     "output_type": "stream",
     "text": [
      "Top_k predictions and their probablities\n",
      "\n",
      "jumping jacks       : 0.999\n",
      "zumba               : 0.000\n",
      "doing aerobics      : 0.000\n",
      "dancing charleston  : 0.000\n",
      "slacklining         : 0.000\n"
     ]
    }
   ],
   "source": [
    "final_probs = probs[-1]\n",
    "print('Top_k predictions and their probablities\\n')\n",
    "for label, p in get_top_k(final_probs):\n",
    "  print(f'{label:20s}: {p:.3f}')"
   ]
  },
  {
   "cell_type": "markdown",
   "metadata": {
    "id": "GaybT0rbZct-"
   },
   "source": [
    "Convert the sequence of probabilities into a video:"
   ]
  },
  {
   "cell_type": "code",
   "execution_count": 32,
   "metadata": {
    "execution": {
     "iopub.execute_input": "2024-03-09T13:26:47.590448Z",
     "iopub.status.busy": "2024-03-09T13:26:47.589887Z",
     "iopub.status.idle": "2024-03-09T13:26:54.543712Z",
     "shell.execute_reply": "2024-03-09T13:26:54.542907Z"
    },
    "id": "Xdox556CtMRb"
   },
   "outputs": [
    {
     "name": "stderr",
     "output_type": "stream",
     "text": [
      "\r",
      "  0%|          | 0/13 [00:00<?, ?it/s]"
     ]
    },
    {
     "name": "stderr",
     "output_type": "stream",
     "text": [
      "/tmpfs/tmp/ipykernel_50732/567636217.py:112: MatplotlibDeprecationWarning: The tostring_rgb function was deprecated in Matplotlib 3.8 and will be removed two minor releases later. Use buffer_rgba instead.\n",
      "  data = np.frombuffer(fig.canvas.tostring_rgb(), dtype=np.uint8)\n",
      "\r",
      "  8%|▊         | 1/13 [00:00<00:07,  1.62it/s]"
     ]
    },
    {
     "name": "stderr",
     "output_type": "stream",
     "text": [
      "\r",
      " 15%|█▌        | 2/13 [00:01<00:06,  1.77it/s]"
     ]
    },
    {
     "name": "stderr",
     "output_type": "stream",
     "text": [
      "\r",
      " 23%|██▎       | 3/13 [00:01<00:05,  1.83it/s]"
     ]
    },
    {
     "name": "stderr",
     "output_type": "stream",
     "text": [
      "\r",
      " 31%|███       | 4/13 [00:02<00:04,  1.85it/s]"
     ]
    },
    {
     "name": "stderr",
     "output_type": "stream",
     "text": [
      "\r",
      " 38%|███▊      | 5/13 [00:02<00:04,  1.86it/s]"
     ]
    },
    {
     "name": "stderr",
     "output_type": "stream",
     "text": [
      "\r",
      " 46%|████▌     | 6/13 [00:03<00:03,  1.88it/s]"
     ]
    },
    {
     "name": "stderr",
     "output_type": "stream",
     "text": [
      "\r",
      " 54%|█████▍    | 7/13 [00:03<00:03,  1.89it/s]"
     ]
    },
    {
     "name": "stderr",
     "output_type": "stream",
     "text": [
      "\r",
      " 62%|██████▏   | 8/13 [00:04<00:02,  1.89it/s]"
     ]
    },
    {
     "name": "stderr",
     "output_type": "stream",
     "text": [
      "\r",
      " 69%|██████▉   | 9/13 [00:04<00:02,  1.89it/s]"
     ]
    },
    {
     "name": "stderr",
     "output_type": "stream",
     "text": [
      "\r",
      " 77%|███████▋  | 10/13 [00:05<00:01,  1.90it/s]"
     ]
    },
    {
     "name": "stderr",
     "output_type": "stream",
     "text": [
      "\r",
      " 85%|████████▍ | 11/13 [00:05<00:01,  1.91it/s]"
     ]
    },
    {
     "name": "stderr",
     "output_type": "stream",
     "text": [
      "\r",
      " 92%|█████████▏| 12/13 [00:06<00:00,  1.91it/s]"
     ]
    },
    {
     "name": "stderr",
     "output_type": "stream",
     "text": [
      "\r",
      "100%|██████████| 13/13 [00:06<00:00,  1.91it/s]"
     ]
    },
    {
     "name": "stderr",
     "output_type": "stream",
     "text": [
      "\r",
      "100%|██████████| 13/13 [00:06<00:00,  1.88it/s]"
     ]
    },
    {
     "name": "stderr",
     "output_type": "stream",
     "text": [
      "\n"
     ]
    }
   ],
   "source": [
    "# Generate a plot and output to a video tensor\n",
    "plot_video = plot_streaming_top_preds(probs, video, video_fps=8.)"
   ]
  },
  {
   "cell_type": "code",
   "execution_count": 33,
   "metadata": {
    "execution": {
     "iopub.execute_input": "2024-03-09T13:26:54.547517Z",
     "iopub.status.busy": "2024-03-09T13:26:54.546901Z",
     "iopub.status.idle": "2024-03-09T13:26:54.811199Z",
     "shell.execute_reply": "2024-03-09T13:26:54.810248Z"
    },
    "id": "NSStKE9klCs3"
   },
   "outputs": [
    {
     "data": {
      "text/html": [
       "<table class=\"show_videos\" style=\"border-spacing:0px;\"><tr><td style=\"padding:1px;\"><video controls width=\"464\" height=\"500\" style=\"object-fit:cover;\" loop autoplay muted>\n",
       "      <source src=\"data:video/mp4;base64,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\" type=\"video/mp4\"/>\n",
       "      This browser does not support the video tag.\n",
       "      </video></td></tr></table>"
      ],
      "text/plain": [
       "<IPython.core.display.HTML object>"
      ]
     },
     "metadata": {},
     "output_type": "display_data"
    }
   ],
   "source": [
    "# For gif format, set codec='gif'\n",
    "media.show_video(plot_video, fps=3)"
   ]
  },
  {
   "cell_type": "markdown",
   "metadata": {
    "id": "LCImgZ3OdJw7"
   },
   "source": [
    "## Resources\n",
    "\n",
    "The pretrained models are available from [TF Hub](https://tfhub.dev/google/collections/movinet/1). The TF Hub collection also includes quantized models optimized for [TFLite](https://tensorflow.org/lite).\n",
    "\n",
    "The source for these models is available in the [TensorFlow Model Garden](https://github.com/tensorflow/models/tree/master/official/projects/movinet). This includes a [longer version of this tutorial](https://colab.sandbox.google.com/github/tensorflow/models/blob/master/official/projects/movinet/movinet_tutorial.ipynb) that also covers building and fine-tuning a MoViNet model. "
   ]
  },
  {
   "cell_type": "markdown",
   "metadata": {
    "id": "gh5lLAo-HpVF"
   },
   "source": [
    "## Next Steps\n",
    "\n",
    "To learn more about working with video data in TensorFlow, check out the following tutorials:\n",
    "\n",
    "* [Load video data](https://www.tensorflow.org/tutorials/load_data/video)\n",
    "* [Build a 3D CNN model for video classification](https://www.tensorflow.org/tutorials/video/video_classification)\n",
    "* [Transfer learning for video classification with MoViNet](https://www.tensorflow.org/tutorials/video/transfer_learning_with_movinet)"
   ]
  }
 ],
 "metadata": {
  "colab": {
   "name": "movinet.ipynb",
   "toc_visible": true
  },
  "kernelspec": {
   "display_name": "Python 3",
   "name": "python3"
  },
  "language_info": {
   "codemirror_mode": {
    "name": "ipython",
    "version": 3
   },
   "file_extension": ".py",
   "mimetype": "text/x-python",
   "name": "python",
   "nbconvert_exporter": "python",
   "pygments_lexer": "ipython3",
   "version": "3.9.18"
  }
 },
 "nbformat": 4,
 "nbformat_minor": 0
}
